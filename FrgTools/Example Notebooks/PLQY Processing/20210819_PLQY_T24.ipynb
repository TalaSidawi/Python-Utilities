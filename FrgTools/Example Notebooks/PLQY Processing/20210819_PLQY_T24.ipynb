{
 "cells": [
  {
   "cell_type": "code",
   "execution_count": 13,
   "metadata": {},
   "outputs": [],
   "source": [
    "import pandas as pd\n",
    "import numpy as np\n",
    "import pickle\n",
    "import statistics\n",
    "import os\n",
    "from scipy.optimize import curve_fit\n",
    "from tqdm import tqdm\n",
    "import frgtools.misc as frgm\n",
    "\n",
    "\n",
    "import matplotlib as mpl\n",
    "import matplotlib.pyplot as plt\n",
    "%config InlineBackend.figure_format = 'retina'\n",
    "from matplotlib import style\n",
    "mpl.rcParams.update(mpl.rcParamsDefault)"
   ]
  },
  {
   "cell_type": "markdown",
   "metadata": {},
   "source": [
    "# Define and Plot Si Responsivity"
   ]
  },
  {
   "cell_type": "code",
   "execution_count": 14,
   "metadata": {},
   "outputs": [],
   "source": [
    "from scipy import interpolate\n",
    "resp = pd.read_csv('/Volumes/GoogleDrive/Shared drives/FenningLab2/StaffFolders/Connor Dolan/PLQY/Si Responsivity.csv')\n",
    "f = interpolate.interp1d(resp['Wavelength'],resp['Responsivity'])\n",
    "xnew = range(320,1100)\n",
    "ynew = f(xnew)"
   ]
  },
  {
   "cell_type": "code",
   "execution_count": 15,
   "metadata": {
    "scrolled": true
   },
   "outputs": [],
   "source": [
    "# plt.plot(xnew,ynew)\n",
    "\n",
    "# #plt.title('Si Detector Responsivity')\n",
    "# #plt.ylabel('Responsivity')\n",
    "# #plt.xlabel('Wavelength')\n",
    "# plt.show()"
   ]
  },
  {
   "cell_type": "markdown",
   "metadata": {},
   "source": [
    "# Load Data, Convert to Values of Interest"
   ]
  },
  {
   "cell_type": "code",
   "execution_count": 16,
   "metadata": {},
   "outputs": [],
   "source": [
    "rootdir = os.path.join('/Volumes/GoogleDrive/My Drive/Characterization_RAWDATA/PLQY/20210819_T24') #replace this with the filepath to root directory for the experiment\n",
    "bg = os.path.join(rootdir, 'bg')\n",
    "raw = os.path.join(rootdir, 'raw')\n",
    "extra = os.path.join(rootdir, 'extra')\n",
    "tseries = os.path.join(rootdir, 'tseries')"
   ]
  },
  {
   "cell_type": "code",
   "execution_count": 17,
   "metadata": {},
   "outputs": [
    {
     "data": {
      "text/plain": [
       "['/Volumes/GoogleDrive/My Drive/Characterization_RAWDATA/PLQY/20210819_T24/a_mptio2_plqy',\n",
       " '/Volumes/GoogleDrive/My Drive/Characterization_RAWDATA/PLQY/20210819_T24/d_glass_plqy',\n",
       " '/Volumes/GoogleDrive/My Drive/Characterization_RAWDATA/PLQY/20210819_T24/b_glass_plqy',\n",
       " '/Volumes/GoogleDrive/My Drive/Characterization_RAWDATA/PLQY/20210819_T24/d_ctio2_plqy',\n",
       " '/Volumes/GoogleDrive/My Drive/Characterization_RAWDATA/PLQY/20210819_T24/a_glass_plqy',\n",
       " '/Volumes/GoogleDrive/My Drive/Characterization_RAWDATA/PLQY/20210819_T24/c_glass_plqy',\n",
       " '/Volumes/GoogleDrive/My Drive/Characterization_RAWDATA/PLQY/20210819_T24/a_ctio2_plqy',\n",
       " '/Volumes/GoogleDrive/My Drive/Characterization_RAWDATA/PLQY/20210819_T24/b_ctio2_plqy',\n",
       " '/Volumes/GoogleDrive/My Drive/Characterization_RAWDATA/PLQY/20210819_T24/c_ctio2_plqy']"
      ]
     },
     "execution_count": 17,
     "metadata": {},
     "output_type": "execute_result"
    }
   ],
   "source": [
    "fids = []\n",
    "for f in frgm.listdir(rootdir, display = False):\n",
    "    if 'control' in f and '_rgb' not in f:\n",
    "        continue\n",
    "    fids.append(f)\n",
    "fids"
   ]
  },
  {
   "cell_type": "code",
   "execution_count": 21,
   "metadata": {},
   "outputs": [],
   "source": [
    "for n in range(len(fids)):\n",
    "    data = pickle.load(open(fids[n],'rb'))\n",
    " \n",
    "    results = {\n",
    "            n*6+0: {'name':fids[n].split('/')[::-1][0].split('_plqy')[0],'optics':'0b_0lp', 'mean':data[0]['IntSphere']['Mean']/data[0]['Reference']['Mean']},\n",
    "            n*6+1: {'name':fids[n].split('/')[::-1][0].split('_plqy')[0],'optics':'1b_0lp', 'mean':data[1]['IntSphere']['Mean']/data[1]['Reference']['Mean']},\n",
    "            n*6+2: {'name':fids[n].split('/')[::-1][0].split('_plqy')[0],'optics':'1b_1lp', 'mean':data[2]['IntSphere']['Mean']/data[2]['Reference']['Mean']},\n",
    "            n*6+3: {'name':fids[n].split('/')[::-1][0].split('_plqy')[0],'optics':'0b_1lp', 'mean':data[3]['IntSphere']['Mean']/data[3]['Reference']['Mean']},\n",
    "            n*6+4: {'name':fids[n].split('/')[::-1][0].split('_plqy')[0],'optics':'ns_1lp', 'mean':data[4]['IntSphere']['Mean']/data[4]['Reference']['Mean']},\n",
    "            n*6+5: {'name':fids[n].split('/')[::-1][0].split('_plqy')[0],'optics':'ns_0lp',  'mean':data[5]['IntSphere']['Mean']/data[5]['Reference']['Mean']},\n",
    "        }\n",
    "    if n ==0:\n",
    "        df = pd.DataFrame(results).T\n",
    "        \n",
    "    if n>0:\n",
    "        df_temp = pd.DataFrame(results).T\n",
    "        df=df.append(df_temp)"
   ]
  },
  {
   "cell_type": "code",
   "execution_count": 22,
   "metadata": {},
   "outputs": [],
   "source": [
    "df_calc = pd.DataFrame(columns=['PLQY'])\n",
    "\n",
    "# data_names = \n",
    "\n",
    "for n in range(len(df['name'].unique())):\n",
    "    df_calc=df_calc.append(pd.Series(df['name'].unique()[n]), ignore_index=True)\n",
    "df_calc = df_calc.rename(columns={'PLQY':'PLQY', 0:'name'})\n",
    "\n",
    "\n",
    "df_calc = df_calc[['name', 'PLQY']]\n",
    "\n",
    "\n",
    "#     = df['name'].unique()[n]"
   ]
  },
  {
   "cell_type": "code",
   "execution_count": 23,
   "metadata": {},
   "outputs": [],
   "source": [
    "# for n in range(df_calc.shape[0]):\n",
    "laser_wavelength = 532\n",
    "emission_wavelength = 677\n",
    "laser_responsivity = ynew[laser_wavelength-320]\n",
    "emission_responsivity = ynew[emission_wavelength-320]\n",
    "\n",
    "for q in range(len(df['name'].unique())):\n",
    "#         df.loc[df['name']==df['name'].unique()[q]]\n",
    "\n",
    "    outBeam_outLP = float(df.loc[df['name']==df['name'].unique()[q]].loc[df.loc[df['name']==df['name'].unique()[q]]['optics']=='0b_0lp']['mean'])\n",
    "    inBeam_outLP = float(df.loc[df['name']==df['name'].unique()[q]].loc[df.loc[df['name']==df['name'].unique()[q]]['optics']=='1b_0lp']['mean'])\n",
    "    inBeam_inLP = float(df.loc[df['name']==df['name'].unique()[q]].loc[df.loc[df['name']==df['name'].unique()[q]]['optics']=='1b_1lp']['mean'])\n",
    "    outBeam_inLP = float(df.loc[df['name']==df['name'].unique()[q]].loc[df.loc[df['name']==df['name'].unique()[q]]['optics']=='0b_1lp']['mean'])\n",
    "    ns_inLP = float(df.loc[df['name']==df['name'].unique()[q]].loc[df.loc[df['name']==df['name'].unique()[q]]['optics']=='ns_1lp']['mean'])\n",
    "    ns_outLP = float(df.loc[df['name']==df['name'].unique()[q]].loc[df.loc[df['name']==df['name'].unique()[q]]['optics']=='ns_0lp']['mean'])\n",
    "\n",
    "    E_in = inBeam_inLP\n",
    "    E_out = outBeam_inLP\n",
    "    X_out = outBeam_outLP - outBeam_inLP\n",
    "    X_in = inBeam_outLP - inBeam_inLP\n",
    "    X_empty = ns_outLP - ns_inLP\n",
    "\n",
    "    E_in = E_in / emission_responsivity\n",
    "    E_in = E_in / emission_wavelength\n",
    "    E_out = E_out / emission_responsivity\n",
    "    E_out = E_out / emission_wavelength\n",
    "    X_in = X_in / laser_responsivity\n",
    "    X_in = X_in / laser_wavelength\n",
    "    X_out = X_out / laser_responsivity\n",
    "    X_out = X_out / laser_wavelength\n",
    "    X_empty = X_empty / laser_responsivity\n",
    "    X_empty = X_empty / laser_wavelength\n",
    "    a = (X_out-X_in)/X_out\n",
    "    plqy = (E_in-(1-a)*E_out)/(X_empty*a)\n",
    "\n",
    "    df_calc['PLQY'][q]= plqy"
   ]
  },
  {
   "cell_type": "code",
   "execution_count": 24,
   "metadata": {},
   "outputs": [
    {
     "data": {
      "text/html": [
       "<div>\n",
       "<style scoped>\n",
       "    .dataframe tbody tr th:only-of-type {\n",
       "        vertical-align: middle;\n",
       "    }\n",
       "\n",
       "    .dataframe tbody tr th {\n",
       "        vertical-align: top;\n",
       "    }\n",
       "\n",
       "    .dataframe thead th {\n",
       "        text-align: right;\n",
       "    }\n",
       "</style>\n",
       "<table border=\"1\" class=\"dataframe\">\n",
       "  <thead>\n",
       "    <tr style=\"text-align: right;\">\n",
       "      <th></th>\n",
       "      <th>name</th>\n",
       "      <th>PLQY</th>\n",
       "    </tr>\n",
       "  </thead>\n",
       "  <tbody>\n",
       "    <tr>\n",
       "      <th>0</th>\n",
       "      <td>d_ctio2</td>\n",
       "      <td>0.00734386</td>\n",
       "    </tr>\n",
       "    <tr>\n",
       "      <th>1</th>\n",
       "      <td>c_ctio2</td>\n",
       "      <td>0.00700002</td>\n",
       "    </tr>\n",
       "    <tr>\n",
       "      <th>2</th>\n",
       "      <td>a_ctio2</td>\n",
       "      <td>0.00695932</td>\n",
       "    </tr>\n",
       "    <tr>\n",
       "      <th>3</th>\n",
       "      <td>b_ctio2</td>\n",
       "      <td>0.00689955</td>\n",
       "    </tr>\n",
       "    <tr>\n",
       "      <th>4</th>\n",
       "      <td>a_mptio2</td>\n",
       "      <td>0.00687352</td>\n",
       "    </tr>\n",
       "    <tr>\n",
       "      <th>5</th>\n",
       "      <td>b_glass</td>\n",
       "      <td>0.00662795</td>\n",
       "    </tr>\n",
       "    <tr>\n",
       "      <th>6</th>\n",
       "      <td>d_glass</td>\n",
       "      <td>0.00658978</td>\n",
       "    </tr>\n",
       "    <tr>\n",
       "      <th>7</th>\n",
       "      <td>a_glass</td>\n",
       "      <td>0.00626588</td>\n",
       "    </tr>\n",
       "    <tr>\n",
       "      <th>8</th>\n",
       "      <td>c_glass</td>\n",
       "      <td>0.00626551</td>\n",
       "    </tr>\n",
       "  </tbody>\n",
       "</table>\n",
       "</div>"
      ],
      "text/plain": [
       "       name        PLQY\n",
       "0   d_ctio2  0.00734386\n",
       "1   c_ctio2  0.00700002\n",
       "2   a_ctio2  0.00695932\n",
       "3   b_ctio2  0.00689955\n",
       "4  a_mptio2  0.00687352\n",
       "5   b_glass  0.00662795\n",
       "6   d_glass  0.00658978\n",
       "7   a_glass  0.00626588\n",
       "8   c_glass  0.00626551"
      ]
     },
     "execution_count": 24,
     "metadata": {},
     "output_type": "execute_result"
    }
   ],
   "source": [
    "df_calc = df_calc.sort_values(by=['PLQY'],  ascending=False)\n",
    "\n",
    "df_calc = df_calc.reset_index()\n",
    "df_calc = df_calc[['name', 'PLQY']]\n",
    "df_calc"
   ]
  },
  {
   "cell_type": "code",
   "execution_count": 25,
   "metadata": {},
   "outputs": [],
   "source": [
    "df_calc['Chlorine_Loading'] = ''\n",
    "df_calc['Substrate'] = ''\n",
    "\n",
    "\n",
    "\n",
    "name_key = {\n",
    "    'd': '0% Cl',\n",
    "    'c': '1% Cl',\n",
    "    'b': '5% Cl',\n",
    "    'a': '10% Cl',\n",
    "    'ctio2': 'C-TiO2',\n",
    "    'mptio2': 'MP-TiO2',\n",
    "    'glass': 'Glass'\n",
    "}\n",
    "\n",
    "def getname(n):\n",
    "    letter = n.split('_')[0]\n",
    "    return name_key[letter]\n",
    "\n",
    "def getname1(n):\n",
    "    letter = n.split('_')[1]\n",
    "    return name_key[letter]\n",
    "\n",
    "df_calc['Chlorine_Loading'] = df_calc['name'].apply(getname)\n",
    "df_calc['Substrate'] = df_calc['name'].apply(getname1)\n",
    "# df = df.sort_values(by=['label'])\n",
    "# df = df.reset_index(drop=True)"
   ]
  },
  {
   "cell_type": "code",
   "execution_count": 26,
   "metadata": {},
   "outputs": [],
   "source": [
    "df_calc = df_calc[['Chlorine_Loading', 'Substrate', 'PLQY']]"
   ]
  },
  {
   "cell_type": "code",
   "execution_count": 31,
   "metadata": {},
   "outputs": [],
   "source": [
    "df_calc = df_calc.rename(columns={'Chlorine_Loading':'Chlorine_Loading', 'Substrate':'Substrate', 'PLQY': 'PLQY 1=100%'})"
   ]
  },
  {
   "cell_type": "code",
   "execution_count": 32,
   "metadata": {},
   "outputs": [
    {
     "data": {
      "text/html": [
       "<div>\n",
       "<style scoped>\n",
       "    .dataframe tbody tr th:only-of-type {\n",
       "        vertical-align: middle;\n",
       "    }\n",
       "\n",
       "    .dataframe tbody tr th {\n",
       "        vertical-align: top;\n",
       "    }\n",
       "\n",
       "    .dataframe thead th {\n",
       "        text-align: right;\n",
       "    }\n",
       "</style>\n",
       "<table border=\"1\" class=\"dataframe\">\n",
       "  <thead>\n",
       "    <tr style=\"text-align: right;\">\n",
       "      <th></th>\n",
       "      <th>Chlorine_Loading</th>\n",
       "      <th>Substrate</th>\n",
       "      <th>PLQY 1=100%</th>\n",
       "    </tr>\n",
       "  </thead>\n",
       "  <tbody>\n",
       "    <tr>\n",
       "      <th>0</th>\n",
       "      <td>0% Cl</td>\n",
       "      <td>C-TiO2</td>\n",
       "      <td>0.00734386</td>\n",
       "    </tr>\n",
       "    <tr>\n",
       "      <th>1</th>\n",
       "      <td>1% Cl</td>\n",
       "      <td>C-TiO2</td>\n",
       "      <td>0.00700002</td>\n",
       "    </tr>\n",
       "    <tr>\n",
       "      <th>2</th>\n",
       "      <td>10% Cl</td>\n",
       "      <td>C-TiO2</td>\n",
       "      <td>0.00695932</td>\n",
       "    </tr>\n",
       "    <tr>\n",
       "      <th>3</th>\n",
       "      <td>5% Cl</td>\n",
       "      <td>C-TiO2</td>\n",
       "      <td>0.00689955</td>\n",
       "    </tr>\n",
       "    <tr>\n",
       "      <th>4</th>\n",
       "      <td>10% Cl</td>\n",
       "      <td>MP-TiO2</td>\n",
       "      <td>0.00687352</td>\n",
       "    </tr>\n",
       "    <tr>\n",
       "      <th>5</th>\n",
       "      <td>5% Cl</td>\n",
       "      <td>Glass</td>\n",
       "      <td>0.00662795</td>\n",
       "    </tr>\n",
       "    <tr>\n",
       "      <th>6</th>\n",
       "      <td>0% Cl</td>\n",
       "      <td>Glass</td>\n",
       "      <td>0.00658978</td>\n",
       "    </tr>\n",
       "    <tr>\n",
       "      <th>7</th>\n",
       "      <td>10% Cl</td>\n",
       "      <td>Glass</td>\n",
       "      <td>0.00626588</td>\n",
       "    </tr>\n",
       "    <tr>\n",
       "      <th>8</th>\n",
       "      <td>1% Cl</td>\n",
       "      <td>Glass</td>\n",
       "      <td>0.00626551</td>\n",
       "    </tr>\n",
       "  </tbody>\n",
       "</table>\n",
       "</div>"
      ],
      "text/plain": [
       "  Chlorine_Loading Substrate PLQY 1=100%\n",
       "0            0% Cl    C-TiO2  0.00734386\n",
       "1            1% Cl    C-TiO2  0.00700002\n",
       "2           10% Cl    C-TiO2  0.00695932\n",
       "3            5% Cl    C-TiO2  0.00689955\n",
       "4           10% Cl   MP-TiO2  0.00687352\n",
       "5            5% Cl     Glass  0.00662795\n",
       "6            0% Cl     Glass  0.00658978\n",
       "7           10% Cl     Glass  0.00626588\n",
       "8            1% Cl     Glass  0.00626551"
      ]
     },
     "execution_count": 32,
     "metadata": {},
     "output_type": "execute_result"
    }
   ],
   "source": [
    "df_calc"
   ]
  },
  {
   "cell_type": "code",
   "execution_count": null,
   "metadata": {},
   "outputs": [],
   "source": []
  }
 ],
 "metadata": {
  "kernelspec": {
   "display_name": "Python 3",
   "language": "python",
   "name": "python3"
  },
  "language_info": {
   "codemirror_mode": {
    "name": "ipython",
    "version": 3
   },
   "file_extension": ".py",
   "mimetype": "text/x-python",
   "name": "python",
   "nbconvert_exporter": "python",
   "pygments_lexer": "ipython3",
   "version": "3.7.9"
  }
 },
 "nbformat": 4,
 "nbformat_minor": 4
}
