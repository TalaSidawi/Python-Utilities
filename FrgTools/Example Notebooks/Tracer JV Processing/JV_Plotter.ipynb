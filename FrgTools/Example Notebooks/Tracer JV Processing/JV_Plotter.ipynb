{
 "cells": [
  {
   "cell_type": "code",
   "execution_count": 1052,
   "metadata": {
    "jupyter": {
     "source_hidden": true
    }
   },
   "outputs": [],
   "source": [
    "import frgtools.misc as frgm\n",
    "import numpy as np\n",
    "import matplotlib.pyplot as plt\n",
    "from matplotlib import style\n",
    "style.use('ggplot') or plt.style.use('ggplot')\n",
    "import pandas as pd\n",
    "import os\n",
    "from scipy.optimize import curve_fit\n",
    "from tqdm import tqdm"
   ]
  },
  {
   "cell_type": "markdown",
   "metadata": {},
   "source": [
    "# Fitting Function"
   ]
  },
  {
   "cell_type": "code",
   "execution_count": 1053,
   "metadata": {
    "jupyter": {
     "source_hidden": true
    }
   },
   "outputs": [],
   "source": [
    "# Using Rishi's CurveFitting Tool for Basic Parameters\n",
    "def FitLight(v, i, area, diodes = 2, plot = False, init_guess = {}, bounds = {}, maxfev = 5000, type = None):\n",
    "\t\"\"\"\n",
    "\tTakes inputs of voltage (V), measured current (A), and cell area (cm2)\n",
    "\n",
    "\tFits an illuminated JV curve to find at least the basic JV parameters:\n",
    "\tOpen-circuit voltage: Voc (V)\n",
    "\tShort-circuit current: Jsc (mA/cm2)\n",
    "\tMax power point voltage: Vmpp (V)\n",
    "\n",
    "\tFitting by 2-diode (default) or 1-diode model as specified by diodes argument provides additional parameters:\n",
    "\tDiode saturation currents: Jo1, (Jo2 if 2-diode model) (A/cm2)\n",
    "\tSeries resistance: Rs (ohms cm2)\n",
    "\tShunt resistance: Rsh (ohms)\n",
    "\tPhotogenerated current: Jl (A/cm2)\n",
    "\t\"\"\"\n",
    "\n",
    "\n",
    "\n",
    "\tj = [i_/area for i_ in i]\t#convert A to mA\n",
    "\t\n",
    "# \tif max(j) > .05:\n",
    "# \t\tprint('Current seems too high (max = {0} mA/cm2). Please double check that your area (cm2) and measured current (A) are correct.'.format(max(j*1000)))\n",
    "\n",
    "\tv = np.asarray(v)\n",
    "\tj = np.asarray(j)\n",
    "\n",
    "\tj = j[v >= 0]\n",
    "\tv = v[v >= 0]\n",
    "\tv = v[j >= 0]\n",
    "\tj = j[j >= 0]\n",
    "\t\n",
    "\tp = np.multiply(v, j)\n",
    "\tx = np.vstack((v,j))\n",
    "\t\n",
    "\tjsc = j[np.argmin(np.abs(v))]\n",
    "\n",
    "\tif diodes == 2:\n",
    "\t\tinit_guess_ = [1e-12, 1e-12, 2, 1e3, jsc] #jo1, jo2, rs, rsh, jl\n",
    "\t\tfor key, val in init_guess.items():\n",
    "\t\t\tfor idx, choices in enumerate([['jo1', 'j01'], ['jo2', 'j02'], ['rs', 'rseries'], ['rsh', 'rshunt'], ['jl', 'jill', 'jilluminated']]):\n",
    "\t\t\t\tif str.lower(key) in choices:\n",
    "\t\t\t\t\tinit_guess_[idx] = val\n",
    "\t\t\t\t\tbreak\n",
    "\n",
    "\t\tbounds_=[[0, 0, 0, 0, jsc*0.9], [np.inf, np.inf, np.inf, np.inf, jsc*1.1]]\n",
    "\t\tfor key, vals in bounds.items():\n",
    "\t\t\tfor idx, choices in enumerate([['jo1', 'j01'], ['jo2', 'j02'], ['rs', 'rseries'], ['rsh', 'rshunt'], ['jl', 'jill', 'jilluminated']]):\n",
    "\t\t\t\tif str.lower(key) in choices:\n",
    "\t\t\t\t\tbounds_[0][idx] = vals[0]\n",
    "\t\t\t\t\tbounds_[1][idx] = vals[1]\n",
    "\t\t\t\t\tbreak\n",
    "\n",
    "\t\tbest_vals, covar = curve_fit(_Light2Diode, x, x[1,:], p0 = init_guess_, maxfev = maxfev, bounds = bounds_, method = 'trf')\n",
    "\t\t\n",
    "\t\tresults = {\n",
    "\t\t\t'jo1': best_vals[0],\n",
    "\t\t\t'jo2': best_vals[1],\n",
    "\t\t\t'rs': best_vals[2],\n",
    "\t\t\t'rsh': best_vals[3],\n",
    "\t\t\t'jl': best_vals[4],\n",
    "\t\t\t'covar': covar\n",
    "\t\t}\n",
    "\t\tresults['jfit'] = _Light2Diode(x, results['jo1'], results['jo2'], results['rs'], results['rsh'], results['jl'])\n",
    "\t\n",
    "\telif diodes == 1:\n",
    "\t\tinit_guess_ = [1e-12, 2, 1e3, jsc] #jo1, rs, rsh, jl\n",
    "\t\tfor key, val in init_guess.items():\n",
    "\t\t\tfor idx, choices in enumerate([['jo1', 'j01'], ['rs', 'rseries'], ['rsh', 'rshunt'], ['jl', 'jill', 'jilluminated']]):\n",
    "\t\t\t\tif str.lower(key) in choices:\n",
    "\t\t\t\t\tinit_guess_[idx] = val\n",
    "\t\t\t\t\tbreak\n",
    "\t\t\t\t\t\n",
    "\t\tbounds_=[[0, 0, 0, 0], [np.inf, np.inf, np.inf, np.inf]]\n",
    "\t\tfor key, vals in bounds.items():\n",
    "\t\t\tfor idx, choices in enumerate([['jo1', 'j01'], ['rs', 'rseries'], ['rsh', 'rshunt'], ['jl', 'jill', 'jilluminated']]):\n",
    "\t\t\t\tif str.lower(key) in choices:\n",
    "\t\t\t\t\tbounds_[0][idx] = vals[0]\n",
    "\t\t\t\t\tbounds_[1][idx] = vals[1]\n",
    "\t\t\t\t\tbreak\n",
    "\t\n",
    "\t\tprint(init_guess_)\n",
    "\t\tprint(bounds_)\n",
    "\t\tbest_vals, covar = curve_fit(_Light1Diode, x, x[1,:], p0 = init_guess_, maxfev = maxfev, bounds = bounds_)\n",
    "\t\t\n",
    "\t\tresults = {\n",
    "\t\t\t'jo1': best_vals[0],\n",
    "\t\t\t'rs': best_vals[1],\n",
    "\t\t\t'rsh': best_vals[2],\n",
    "\t\t\t'jl': best_vals[3],\n",
    "\t\t\t'covar': covar\n",
    "\t\t}\n",
    "\t\tresults['jfit'] = _Light1Diode(x, results['jo1'], results['rs'], results['rsh'], results['jl'])\n",
    "\telse:\n",
    "\t\tprint('Error: Invalid number of diodes requested for fitting. Diode must equal 1 or 2. User provided {0}. Diode equation not fit.'.format(diodes))\n",
    "\t\tresults = {}\n",
    "\n",
    "\n",
    "\n",
    "\tif plot and len(results) > 0:\n",
    "\t\tfig, ax = plt.subplots()\n",
    "\t\tax.plot(v, j*1000, label = 'Measured')\n",
    "\t\txlim0 = ax.get_xlim()\n",
    "\t\tylim0 = ax.get_ylim()\n",
    "\t\tax.plot(v, results['jfit']*1000, linestyle = '--', label = 'Fit')\n",
    "\t\tax.set_xlim(xlim0)\n",
    "\t\tax.set_ylim(ylim0)\n",
    "\t\tax.set_xlabel('Voltage (V)')\n",
    "\t\tax.set_ylabel('Current Density (mA/cm2)')\n",
    "\t\tplt.show()\n",
    "\t\n",
    "\tresults['voc'] = v[np.argmin(np.abs(j))]\n",
    "\tresults['jsc'] = j[np.argmin(np.abs(v))]\n",
    "\tresults['vmpp'] = v[np.argmax(p)]\n",
    "\tresults['pce'] = p.max()*10\n",
    "\tresults['ff'] = p.max() / (results['voc']*results['jsc'])\t\n",
    "\n",
    "\treturn results\n",
    "\n",
    "def _Light2Diode(x, jo1, jo2, rs, rsh, jl):\n",
    "\tv = x[0]\n",
    "\tj_meas = x[1]\n",
    "\t\n",
    "\t#constants\n",
    "\tq = 1.60217662e-19 #coulombs\n",
    "\tk = 1.380649e-23 #J/K\n",
    "\tT = 298.15 #assume room temperature\n",
    "\n",
    "\t#calculation\n",
    "\td1 = jo1 * np.exp((q*(v+(j_meas*rs)))/(k*T))\n",
    "\td2 = jo2 * np.exp((q*(v+(j_meas*rs)))/(2*k*T))\n",
    "\tj = jl - d1 - d2 - (v+j_meas*rs)/rsh\n",
    "\t\n",
    "\treturn j\n",
    "\n",
    "def _Light1Diode(x, jo1, rs, rsh, jl):\n",
    "\tv = x[0]\n",
    "\tj_meas = x[1]\n",
    "\t\n",
    "\t#constants\n",
    "\tq = 1.60217662e-19 #coulombs\n",
    "\tk = 1.380649e-23 #J/K\n",
    "\tT = 298.15 #assume room temperature\n",
    "\n",
    "\t#calculation\n",
    "\td1 = jo1 * np.exp((q*(v+(j_meas*rs)))/(k*T))\n",
    "\tj = jl - d1 - (v+j_meas*rs)/rsh\n",
    "\t\n",
    "\treturn j"
   ]
  },
  {
   "cell_type": "markdown",
   "metadata": {},
   "source": [
    "# Loading Raw Data File"
   ]
  },
  {
   "cell_type": "code",
   "execution_count": 1054,
   "metadata": {
    "jupyter": {
     "source_hidden": true
    }
   },
   "outputs": [],
   "source": [
    "fids = []\n",
    "for f in frgm.listdir('Data', display = False):\n",
    "    if 'control' in f and '_rgb' not in f:\n",
    "        continue\n",
    "    fids.append(f)"
   ]
  },
  {
   "cell_type": "code",
   "execution_count": 1055,
   "metadata": {
    "jupyter": {
     "source_hidden": true
    }
   },
   "outputs": [],
   "source": [
    "# Use either frgm tool to load the file path or replace \"fids[0]\" with your file path\n",
    "# use regular csv read if you converted to csv\n",
    "# df = pd.read_csv(fids[1], header=None) \n",
    "# otherwise use:\n",
    "df = pd.read_csv(fids[0], delimiter=\"\\t\", header=None)\n",
    "df.drop(df.columns[len(df.columns)-1], axis=1, inplace=True)\n",
    "row, col = df.shape"
   ]
  },
  {
   "cell_type": "markdown",
   "metadata": {},
   "source": [
    "# Converting Raw Data to Dataframe"
   ]
  },
  {
   "cell_type": "code",
   "execution_count": 1056,
   "metadata": {
    "jupyter": {
     "source_hidden": true
    }
   },
   "outputs": [],
   "source": [
    "Device = []\n",
    "for n in range(1, col,3):\n",
    "    Device.append(df.iloc[1,n])\n",
    "    \n",
    "Run = []\n",
    "for n in range(1, col,3):\n",
    "    Run.append(df.iloc[0,n])\n",
    "\n",
    "Size = []\n",
    "for n in range(1, col,3):\n",
    "    Size.append(df.iloc[3,n])\n",
    "\n",
    "Date = []\n",
    "for n in range(1, col,3):\n",
    "    Date.append(df.iloc[6,n])\n",
    "\n",
    "Time = []\n",
    "for n in range(1, col,3):\n",
    "    Time.append(df.iloc[7,n])\n",
    "    \n",
    "Type = []\n",
    "for n in range(1, col,3):\n",
    "    Type.append(df.iloc[2,n])\n",
    "\n",
    "data_tuples = list(zip(Device, Run, Type, Size, Date, Time))\n",
    "    \n",
    "Tracer = pd.DataFrame(data_tuples, columns=['Device','Run','Type','Size', 'Date', 'Time'])\n",
    "\n",
    "Tracer[\"Voltage_string\"] = np.nan\n",
    "Tracer[\"Current_string\"] = np.nan\n",
    "Tracer[\"Power_string\"] = np.nan\n",
    "Tracer[\"Voltage\"] = np.nan\n",
    "Tracer[\"Current\"] = np.nan\n",
    "Tracer[\"Power\"] = np.nan\n",
    "Tracer[\"PCE\"] = np.nan\n",
    "Tracer[\"FF\"] = np.nan\n",
    "Tracer[\"Jsc\"] = np.nan\n",
    "Tracer[\"Voc\"] = np.nan\n",
    "Tracer[\"Vmpp\"] = np.nan"
   ]
  },
  {
   "cell_type": "code",
   "execution_count": 1057,
   "metadata": {
    "jupyter": {
     "source_hidden": true
    }
   },
   "outputs": [],
   "source": [
    "# Converting to object to hold arrays in a single cell\n",
    "Tracer = Tracer.astype('object')"
   ]
  },
  {
   "cell_type": "code",
   "execution_count": 1058,
   "metadata": {
    "jupyter": {
     "source_hidden": true
    }
   },
   "outputs": [],
   "source": [
    "# Size gathering\n",
    "row1, col1 = Tracer.shape"
   ]
  },
  {
   "cell_type": "code",
   "execution_count": 1059,
   "metadata": {
    "jupyter": {
     "source_hidden": true
    }
   },
   "outputs": [],
   "source": [
    "for n in range(0, col,3):\n",
    "    Tracer.at[n/3,'Voltage_string']=df[n][12:].values.tolist()\n",
    "\n",
    "for n in range(1, col,3):\n",
    "    Tracer.at[(n-1)/3,'Current_string']=df[n][12:].values.tolist()\n",
    "    \n",
    "for n in range(2, col,3):\n",
    "    Tracer.at[(n-2)/3,'Power_string']=df[n][12:].values.tolist()\n",
    "\n",
    "#removing dark curves\n",
    "Tracer=Tracer.dropna(subset=['Run'], how='any')\n",
    "Tracer.reset_index(drop=True, inplace=True)\n",
    "row1, col1 = Tracer.shape"
   ]
  },
  {
   "cell_type": "markdown",
   "metadata": {},
   "source": [
    "# Looping the Curve Fitting Over Each Measurement"
   ]
  },
  {
   "cell_type": "code",
   "execution_count": 1060,
   "metadata": {
    "jupyter": {
     "source_hidden": true
    }
   },
   "outputs": [
    {
     "name": "stderr",
     "output_type": "stream",
     "text": [
      " 85%|████████▌ | 114/134 [00:01<00:00, 68.03it/s]/opt/anaconda3/envs/ds/lib/python3.7/site-packages/scipy/optimize/minpack.py:808: OptimizeWarning: Covariance of the parameters could not be estimated\n",
      "  category=OptimizeWarning)\n",
      "100%|██████████| 134/134 [00:01<00:00, 69.50it/s]"
     ]
    },
    {
     "name": "stdout",
     "output_type": "stream",
     "text": [
      "line   124   is erroneous\n",
      "line   126   is erroneous\n",
      "line   128   is erroneous\n",
      "line   131   is erroneous\n",
      "line   133   is erroneous\n",
      "the rest should be ok\n"
     ]
    },
    {
     "name": "stderr",
     "output_type": "stream",
     "text": [
      "\n"
     ]
    }
   ],
   "source": [
    "for n in range(0, row1, 1):\n",
    "    Tracer.at[n,'Voltage'] = np.array(Tracer.loc[n,'Voltage_string'], dtype=np.float32)\n",
    "    Tracer.at[n,'Current'] = np.array(Tracer.loc[n,'Current_string'], dtype=np.float32)\n",
    "    Tracer.at[n,'Power'] = np.array(Tracer.loc[n,'Power_string'], dtype=np.float32)\n",
    "    \n",
    "Tracer = Tracer.drop(['Voltage_string', 'Current_string', 'Power_string'], axis=1)\n",
    "\n",
    "for t in tqdm(range(0, row1, 1)):\n",
    "    try:\n",
    "        temp_dict = FitLight(Tracer.loc[t]['Voltage'], Tracer.loc[t]['Current'], np.float(Tracer.loc[t]['Size']), diodes = 2, plot = False, init_guess = {}, bounds = {}, maxfev = 5000, type = None)\n",
    "        temp_list = list(temp_dict.values()) \n",
    "        Tracer.at[t,'Voc']= temp_list[7]*1000\n",
    "        Tracer.at[t,'Jsc']= temp_list[8]*1000\n",
    "        Tracer.at[t,'Vmpp']= temp_list[9]*1000\n",
    "        Tracer.at[t,'PCE']= temp_list[10]*100\n",
    "        Tracer.at[t,'FF']= temp_list[11]*100\n",
    "    except:\n",
    "        print('line   ' + str(t) + '   is erroneous')\n",
    "        pass\n",
    "print('the rest should be ok')\n",
    "# Really bad devices, and bugged measurements will give errors"
   ]
  },
  {
   "cell_type": "markdown",
   "metadata": {},
   "source": [
    "# Creating a Subset Dataframe"
   ]
  },
  {
   "cell_type": "code",
   "execution_count": 1061,
   "metadata": {},
   "outputs": [
    {
     "data": {
      "text/html": [
       "<div>\n",
       "<style scoped>\n",
       "    .dataframe tbody tr th:only-of-type {\n",
       "        vertical-align: middle;\n",
       "    }\n",
       "\n",
       "    .dataframe tbody tr th {\n",
       "        vertical-align: top;\n",
       "    }\n",
       "\n",
       "    .dataframe thead th {\n",
       "        text-align: right;\n",
       "    }\n",
       "</style>\n",
       "<table border=\"1\" class=\"dataframe\">\n",
       "  <thead>\n",
       "    <tr style=\"text-align: right;\">\n",
       "      <th></th>\n",
       "      <th>Device</th>\n",
       "      <th>Run</th>\n",
       "      <th>Type</th>\n",
       "      <th>Size</th>\n",
       "      <th>Date</th>\n",
       "      <th>Time</th>\n",
       "      <th>Voltage</th>\n",
       "      <th>Current</th>\n",
       "      <th>Power</th>\n",
       "      <th>PCE</th>\n",
       "      <th>FF</th>\n",
       "      <th>Jsc</th>\n",
       "      <th>Voc</th>\n",
       "      <th>Vmpp</th>\n",
       "    </tr>\n",
       "  </thead>\n",
       "  <tbody>\n",
       "    <tr>\n",
       "      <th>0</th>\n",
       "      <td>C9SASD1_P3_S1</td>\n",
       "      <td>(2 of 2)</td>\n",
       "      <td>Illuminated IV2</td>\n",
       "      <td>0.07</td>\n",
       "      <td>3/12/2020</td>\n",
       "      <td>6:29:40 PM</td>\n",
       "      <td>[-0.20107022, -0.19645989, -0.18471336, -0.175...</td>\n",
       "      <td>[0.0015316143, 0.0015280311, 0.0015303666, 0.0...</td>\n",
       "      <td>[-0.00030796204, -0.0003001968, -0.00028267916...</td>\n",
       "      <td>17.1119</td>\n",
       "      <td>75.4215</td>\n",
       "      <td>21.9371</td>\n",
       "      <td>1034.25</td>\n",
       "      <td>861.504</td>\n",
       "    </tr>\n",
       "    <tr>\n",
       "      <th>1</th>\n",
       "      <td>C9SASD1_P3_S2</td>\n",
       "      <td>(2 of 2)</td>\n",
       "      <td>Illuminated IV2</td>\n",
       "      <td>0.07</td>\n",
       "      <td>3/12/2020</td>\n",
       "      <td>6:30:17 PM</td>\n",
       "      <td>[-0.20356321, -0.1966825, -0.18516052, -0.1757...</td>\n",
       "      <td>[0.0015044122, 0.0015053173, 0.0015048028, 0.0...</td>\n",
       "      <td>[-0.000306243, -0.00029606954, -0.00027863006,...</td>\n",
       "      <td>15.2561</td>\n",
       "      <td>70.4663</td>\n",
       "      <td>21.4979</td>\n",
       "      <td>1007.09</td>\n",
       "      <td>814.556</td>\n",
       "    </tr>\n",
       "    <tr>\n",
       "      <th>2</th>\n",
       "      <td>C9SASD2_P1_S2</td>\n",
       "      <td>(2 of 2)</td>\n",
       "      <td>Illuminated IV2</td>\n",
       "      <td>0.07</td>\n",
       "      <td>3/12/2020</td>\n",
       "      <td>6:34:58 PM</td>\n",
       "      <td>[-0.21481754, -0.20019059, -0.19388454, -0.184...</td>\n",
       "      <td>[0.0016130671, 0.0016001149, 0.0015930269, 0.0...</td>\n",
       "      <td>[-0.00034651512, -0.00032032793, -0.0003088632...</td>\n",
       "      <td>11.7836</td>\n",
       "      <td>55.4981</td>\n",
       "      <td>21.5052</td>\n",
       "      <td>987.318</td>\n",
       "      <td>747.763</td>\n",
       "    </tr>\n",
       "    <tr>\n",
       "      <th>3</th>\n",
       "      <td>C9SASD2_P2_S3</td>\n",
       "      <td>(2 of 2)</td>\n",
       "      <td>Illuminated IV2</td>\n",
       "      <td>0.07</td>\n",
       "      <td>3/12/2020</td>\n",
       "      <td>6:35:59 PM</td>\n",
       "      <td>[-0.2130143, -0.20346706, -0.1947258, -0.18470...</td>\n",
       "      <td>[0.001607443, 0.0015953957, 0.0015877527, 0.00...</td>\n",
       "      <td>[-0.00034240834, -0.00032461045, -0.0003091764...</td>\n",
       "      <td>12.2328</td>\n",
       "      <td>57.9217</td>\n",
       "      <td>21.5886</td>\n",
       "      <td>978.27</td>\n",
       "      <td>710.893</td>\n",
       "    </tr>\n",
       "    <tr>\n",
       "      <th>4</th>\n",
       "      <td>C9SASD2_P3_S1</td>\n",
       "      <td>(2 of 2)</td>\n",
       "      <td>Illuminated IV2</td>\n",
       "      <td>0.07</td>\n",
       "      <td>3/12/2020</td>\n",
       "      <td>6:36:19 PM</td>\n",
       "      <td>[-0.21416849, -0.20286454, -0.19490713, -0.185...</td>\n",
       "      <td>[0.0016619107, 0.0016456845, 0.0016313442, 0.0...</td>\n",
       "      <td>[-0.00035592887, -0.00033385103, -0.0003179606...</td>\n",
       "      <td>8.413</td>\n",
       "      <td>45.6138</td>\n",
       "      <td>21.0534</td>\n",
       "      <td>876.057</td>\n",
       "      <td>588.898</td>\n",
       "    </tr>\n",
       "    <tr>\n",
       "      <th>5</th>\n",
       "      <td>C9SASD2_P2_S4</td>\n",
       "      <td>(2 of 2)</td>\n",
       "      <td>Illuminated IV2</td>\n",
       "      <td>0.07</td>\n",
       "      <td>3/12/2020</td>\n",
       "      <td>6:36:43 PM</td>\n",
       "      <td>[-0.21341418, -0.20388581, -0.1946303, -0.1843...</td>\n",
       "      <td>[0.00160689, 0.0015956877, 0.0015848281, 0.001...</td>\n",
       "      <td>[-0.0003429331, -0.0003253381, -0.00030845558,...</td>\n",
       "      <td>12.3085</td>\n",
       "      <td>58.7936</td>\n",
       "      <td>21.3837</td>\n",
       "      <td>979.018</td>\n",
       "      <td>737.876</td>\n",
       "    </tr>\n",
       "  </tbody>\n",
       "</table>\n",
       "</div>"
      ],
      "text/plain": [
       "          Device       Run             Type  Size       Date        Time  \\\n",
       "0  C9SASD1_P3_S1  (2 of 2)  Illuminated IV2  0.07  3/12/2020  6:29:40 PM   \n",
       "1  C9SASD1_P3_S2  (2 of 2)  Illuminated IV2  0.07  3/12/2020  6:30:17 PM   \n",
       "2  C9SASD2_P1_S2  (2 of 2)  Illuminated IV2  0.07  3/12/2020  6:34:58 PM   \n",
       "3  C9SASD2_P2_S3  (2 of 2)  Illuminated IV2  0.07  3/12/2020  6:35:59 PM   \n",
       "4  C9SASD2_P3_S1  (2 of 2)  Illuminated IV2  0.07  3/12/2020  6:36:19 PM   \n",
       "5  C9SASD2_P2_S4  (2 of 2)  Illuminated IV2  0.07  3/12/2020  6:36:43 PM   \n",
       "\n",
       "                                             Voltage  \\\n",
       "0  [-0.20107022, -0.19645989, -0.18471336, -0.175...   \n",
       "1  [-0.20356321, -0.1966825, -0.18516052, -0.1757...   \n",
       "2  [-0.21481754, -0.20019059, -0.19388454, -0.184...   \n",
       "3  [-0.2130143, -0.20346706, -0.1947258, -0.18470...   \n",
       "4  [-0.21416849, -0.20286454, -0.19490713, -0.185...   \n",
       "5  [-0.21341418, -0.20388581, -0.1946303, -0.1843...   \n",
       "\n",
       "                                             Current  \\\n",
       "0  [0.0015316143, 0.0015280311, 0.0015303666, 0.0...   \n",
       "1  [0.0015044122, 0.0015053173, 0.0015048028, 0.0...   \n",
       "2  [0.0016130671, 0.0016001149, 0.0015930269, 0.0...   \n",
       "3  [0.001607443, 0.0015953957, 0.0015877527, 0.00...   \n",
       "4  [0.0016619107, 0.0016456845, 0.0016313442, 0.0...   \n",
       "5  [0.00160689, 0.0015956877, 0.0015848281, 0.001...   \n",
       "\n",
       "                                               Power      PCE       FF  \\\n",
       "0  [-0.00030796204, -0.0003001968, -0.00028267916...  17.1119  75.4215   \n",
       "1  [-0.000306243, -0.00029606954, -0.00027863006,...  15.2561  70.4663   \n",
       "2  [-0.00034651512, -0.00032032793, -0.0003088632...  11.7836  55.4981   \n",
       "3  [-0.00034240834, -0.00032461045, -0.0003091764...  12.2328  57.9217   \n",
       "4  [-0.00035592887, -0.00033385103, -0.0003179606...    8.413  45.6138   \n",
       "5  [-0.0003429331, -0.0003253381, -0.00030845558,...  12.3085  58.7936   \n",
       "\n",
       "       Jsc      Voc     Vmpp  \n",
       "0  21.9371  1034.25  861.504  \n",
       "1  21.4979  1007.09  814.556  \n",
       "2  21.5052  987.318  747.763  \n",
       "3  21.5886   978.27  710.893  \n",
       "4  21.0534  876.057  588.898  \n",
       "5  21.3837  979.018  737.876  "
      ]
     },
     "execution_count": 1061,
     "metadata": {},
     "output_type": "execute_result"
    }
   ],
   "source": [
    "# Filtering out nonsensical FF\n",
    "Tracer = Tracer[Tracer['FF'] < 100]  \n",
    "\n",
    "# Filtering out failed devices\n",
    "Tracer = Tracer[Tracer['PCE'] > 5]  \n",
    "\n",
    "# Filtering out bugged curves (manual entry)\n",
    "Tracer = Tracer[Tracer.Device != 'C5SASD1_P3_S1']\n",
    "Tracer = Tracer[Tracer.Device != 'C9SASD2_P2_S2']\n",
    "Tracer = Tracer[Tracer.Device != 'C9EASD1_P3_S1']\n",
    "Tracer = Tracer[Tracer.Device != 'C5EASD1_P2_S1']\n",
    "Tracer = Tracer[Tracer.Device != 'C9SASD1_P2_S1']\n",
    "Tracer = Tracer[Tracer.Device != 'C5SASD2_P3_S1']\n",
    "Tracer = Tracer[Tracer.Device != 'C9SASD2_P1_S1']\n",
    "\n",
    "# Reseting index in master dataframe for clarity\n",
    "Tracer.reset_index(drop=True, inplace=True)\n",
    "\n",
    "# plotting a subset of experiment\n",
    "# filter condition 1:\n",
    "df_filter1 = Tracer[Tracer.Device.str.contains(\"9\")]\n",
    "\n",
    "# filter condition 2:\n",
    "df_filter2 = df_filter1[df_filter1.Device.str.contains(\"SASD\")]\n",
    "\n",
    "# filter condition 3: #1 = reverse, #2 = forward, depends on actual settings when measurement taken\n",
    "df_filter3 = df_filter2[df_filter2.Type.str.contains(\"2\")]\n",
    "\n",
    "df_filter3.reset_index(drop=True, inplace=True)\n",
    "\n",
    "# observing your dataset before plotting\n",
    "df_filter3"
   ]
  },
  {
   "cell_type": "markdown",
   "metadata": {},
   "source": [
    "# Plotting the Subset"
   ]
  },
  {
   "cell_type": "code",
   "execution_count": 1062,
   "metadata": {},
   "outputs": [
    {
     "data": {
      "image/png": "[encoded data removed]",
      "text/plain": [
       "<Figure size 432x288 with 1 Axes>"
      ]
     },
     "metadata": {},
     "output_type": "display_data"
    }
   ],
   "source": [
    "# filtered DataFrame to Plot\n",
    "DF = df_filter3 \n",
    "\n",
    "for q in range (0, len(DF), 1):\n",
    "\n",
    "    plt.plot(DF.loc[q]['Voltage'],DF.loc[q]['Current']/np.float(DF.loc[q]['Size'])*1000, label=DF.loc[q]['Device']+ ' PCE='+ str(round(DF.loc[q]['PCE'],2)))\n",
    "#   plt.plot(DF.loc[q]['Voltage'],DF.loc[q]['Power']/np.float(DF.loc[q]['Size'])*1000, label=DF.loc[q]['Device']+' '+'Power Curve')\n",
    "\n",
    "plt.legend()\n",
    "plt.title('JV')\n",
    "plt.ylim(0,25)\n",
    "plt.xlim(0,1.2)\n",
    "\n",
    "plt.ylabel('Current Density mA/cm2')\n",
    "plt.xlabel('Voltage Vucsd ')\n",
    "plt.show()"
   ]
  },
  {
   "cell_type": "markdown",
   "metadata": {},
   "source": [
    "# Looking for Maximums"
   ]
  },
  {
   "cell_type": "code",
   "execution_count": 1063,
   "metadata": {
    "jupyter": {
     "source_hidden": true
    }
   },
   "outputs": [],
   "source": [
    "maxlist = []\n",
    "for n in range(np.size(Tracer['PCE'])):\n",
    "        maxlist.append(round(Tracer['PCE'][n],2))"
   ]
  },
  {
   "cell_type": "code",
   "execution_count": 1064,
   "metadata": {
    "jupyter": {
     "source_hidden": true
    }
   },
   "outputs": [
    {
     "data": {
      "text/plain": [
       "[38]"
      ]
     },
     "execution_count": 1064,
     "metadata": {},
     "output_type": "execute_result"
    }
   ],
   "source": [
    "m = max(maxlist)\n",
    "[i for i, j in enumerate(maxlist) if j == m]"
   ]
  },
  {
   "cell_type": "code",
   "execution_count": 1065,
   "metadata": {
    "collapsed": true,
    "jupyter": {
     "outputs_hidden": true
    }
   },
   "outputs": [
    {
     "data": {
      "text/html": [
       "<div>\n",
       "<style scoped>\n",
       "    .dataframe tbody tr th:only-of-type {\n",
       "        vertical-align: middle;\n",
       "    }\n",
       "\n",
       "    .dataframe tbody tr th {\n",
       "        vertical-align: top;\n",
       "    }\n",
       "\n",
       "    .dataframe thead th {\n",
       "        text-align: right;\n",
       "    }\n",
       "</style>\n",
       "<table border=\"1\" class=\"dataframe\">\n",
       "  <thead>\n",
       "    <tr style=\"text-align: right;\">\n",
       "      <th></th>\n",
       "      <th>Device</th>\n",
       "      <th>Run</th>\n",
       "      <th>Type</th>\n",
       "      <th>Size</th>\n",
       "      <th>Date</th>\n",
       "      <th>Time</th>\n",
       "      <th>Voltage</th>\n",
       "      <th>Current</th>\n",
       "      <th>Power</th>\n",
       "      <th>PCE</th>\n",
       "      <th>FF</th>\n",
       "      <th>Jsc</th>\n",
       "      <th>Voc</th>\n",
       "      <th>Vmpp</th>\n",
       "    </tr>\n",
       "  </thead>\n",
       "  <tbody>\n",
       "    <tr>\n",
       "      <th>38</th>\n",
       "      <td>C9SASD1_P3_S1</td>\n",
       "      <td>(2 of 2)</td>\n",
       "      <td>Illuminated IV2</td>\n",
       "      <td>0.07</td>\n",
       "      <td>3/12/2020</td>\n",
       "      <td>6:29:40 PM</td>\n",
       "      <td>[-0.20107022, -0.19645989, -0.18471336, -0.175...</td>\n",
       "      <td>[0.0015316143, 0.0015280311, 0.0015303666, 0.0...</td>\n",
       "      <td>[-0.00030796204, -0.0003001968, -0.00028267916...</td>\n",
       "      <td>17.1119</td>\n",
       "      <td>75.4215</td>\n",
       "      <td>21.9371</td>\n",
       "      <td>1034.25</td>\n",
       "      <td>861.504</td>\n",
       "    </tr>\n",
       "  </tbody>\n",
       "</table>\n",
       "</div>"
      ],
      "text/plain": [
       "           Device       Run             Type  Size       Date        Time  \\\n",
       "38  C9SASD1_P3_S1  (2 of 2)  Illuminated IV2  0.07  3/12/2020  6:29:40 PM   \n",
       "\n",
       "                                              Voltage  \\\n",
       "38  [-0.20107022, -0.19645989, -0.18471336, -0.175...   \n",
       "\n",
       "                                              Current  \\\n",
       "38  [0.0015316143, 0.0015280311, 0.0015303666, 0.0...   \n",
       "\n",
       "                                                Power      PCE       FF  \\\n",
       "38  [-0.00030796204, -0.0003001968, -0.00028267916...  17.1119  75.4215   \n",
       "\n",
       "        Jsc      Voc     Vmpp  \n",
       "38  21.9371  1034.25  861.504  "
      ]
     },
     "execution_count": 1065,
     "metadata": {},
     "output_type": "execute_result"
    }
   ],
   "source": [
    "Tracer[38:39]"
   ]
  }
 ],
 "metadata": {
  "kernelspec": {
   "display_name": "Python 3",
   "language": "python",
   "name": "python3"
  },
  "language_info": {
   "codemirror_mode": {
    "name": "ipython",
    "version": 3
   },
   "file_extension": ".py",
   "mimetype": "text/x-python",
   "name": "python",
   "nbconvert_exporter": "python",
   "pygments_lexer": "ipython3",
   "version": "3.7.5"
  }
 },
 "nbformat": 4,
 "nbformat_minor": 4
}
