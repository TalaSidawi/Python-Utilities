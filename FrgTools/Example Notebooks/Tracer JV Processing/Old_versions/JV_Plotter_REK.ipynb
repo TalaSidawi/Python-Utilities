{
 "cells": [
  {
   "cell_type": "code",
   "execution_count": 39,
   "metadata": {},
   "outputs": [],
   "source": [
    "import frgtools.misc as frgm\n",
    "import frgtools.jv as jv\n",
    "import numpy as np\n",
    "import matplotlib as mpl\n",
    "import matplotlib.pyplot as plt\n",
    "from matplotlib import style\n",
    "# style.use('ggplot') or plt.style.use('ggplot')\n",
    "import pandas as pd\n",
    "import os\n",
    "from scipy.optimize import curve_fit\n",
    "from tqdm import tqdm\n",
    "import seaborn as sns"
   ]
  },
  {
   "cell_type": "code",
   "execution_count": 51,
   "metadata": {},
   "outputs": [
    {
     "data": {
      "text/plain": [
       "<module 'frgtools.jv' from '/Users/rishi/Documents/GitHub/Python-Utilities/FrgTools/frgtools/jv.py'>"
      ]
     },
     "execution_count": 51,
     "metadata": {},
     "output_type": "execute_result"
    }
   ],
   "source": [
    "from importlib import reload\n",
    "reload(jv)"
   ]
  },
  {
   "cell_type": "markdown",
   "metadata": {},
   "source": [
    "# Loading Raw Data File"
   ]
  },
  {
   "cell_type": "code",
   "execution_count": 52,
   "metadata": {},
   "outputs": [
    {
     "name": "stdout",
     "output_type": "stream",
     "text": [
      "Files in 'Data':\n",
      "0:20200312_Optimization.txt\n",
      "1:ExportedMeasurements.txt\n",
      "2:20200312_Optimization.csv\n"
     ]
    }
   ],
   "source": [
    "fids = frgm.listdir('Data')"
   ]
  },
  {
   "cell_type": "code",
   "execution_count": 53,
   "metadata": {},
   "outputs": [
    {
     "ename": "TypeError",
     "evalue": "'int' object is not iterable",
     "output_type": "error",
     "traceback": [
      "\u001b[0;31m---------------------------------------------------------------------------\u001b[0m",
      "\u001b[0;31mTypeError\u001b[0m                                 Traceback (most recent call last)",
      "\u001b[0;32m<ipython-input-53-98c1b4471832>\u001b[0m in \u001b[0;36m<module>\u001b[0;34m\u001b[0m\n\u001b[0;32m----> 1\u001b[0;31m \u001b[0mdata\u001b[0m \u001b[0;34m=\u001b[0m \u001b[0mjv\u001b[0m\u001b[0;34m.\u001b[0m\u001b[0mload_tracer\u001b[0m\u001b[0;34m(\u001b[0m\u001b[0mfids\u001b[0m\u001b[0;34m[\u001b[0m\u001b[0;36m0\u001b[0m\u001b[0;34m]\u001b[0m\u001b[0;34m)\u001b[0m\u001b[0;34m\u001b[0m\u001b[0;34m\u001b[0m\u001b[0m\n\u001b[0m\u001b[1;32m      2\u001b[0m \u001b[0mdf\u001b[0m \u001b[0;34m=\u001b[0m \u001b[0mpd\u001b[0m\u001b[0;34m.\u001b[0m\u001b[0mDataFrame\u001b[0m\u001b[0;34m(\u001b[0m\u001b[0mdata\u001b[0m\u001b[0;34m)\u001b[0m\u001b[0;34m\u001b[0m\u001b[0;34m\u001b[0m\u001b[0m\n",
      "\u001b[0;32m~/Documents/GitHub/Python-Utilities/FrgTools/frgtools/jv.py\u001b[0m in \u001b[0;36mload_tracer\u001b[0;34m(fpath, reversefirst)\u001b[0m\n\u001b[1;32m     62\u001b[0m \u001b[0;34m\u001b[0m\u001b[0m\n\u001b[1;32m     63\u001b[0m                 \u001b[0;32mfor\u001b[0m \u001b[0mk\u001b[0m \u001b[0;32min\u001b[0m \u001b[0mdatacols\u001b[0m\u001b[0;34m:\u001b[0m\u001b[0;34m\u001b[0m\u001b[0;34m\u001b[0m\u001b[0m\n\u001b[0;32m---> 64\u001b[0;31m                         \u001b[0;32mfor\u001b[0m \u001b[0mi\u001b[0m \u001b[0;32min\u001b[0m \u001b[0mlen\u001b[0m\u001b[0;34m(\u001b[0m\u001b[0mdata\u001b[0m\u001b[0;34m[\u001b[0m\u001b[0mk\u001b[0m\u001b[0;34m]\u001b[0m\u001b[0;34m)\u001b[0m\u001b[0;34m:\u001b[0m\u001b[0;34m\u001b[0m\u001b[0;34m\u001b[0m\u001b[0m\n\u001b[0m\u001b[1;32m     65\u001b[0m                                 \u001b[0mdata\u001b[0m\u001b[0;34m[\u001b[0m\u001b[0mk\u001b[0m\u001b[0;34m]\u001b[0m\u001b[0;34m[\u001b[0m\u001b[0mi\u001b[0m\u001b[0;34m]\u001b[0m \u001b[0;34m=\u001b[0m \u001b[0mnp\u001b[0m\u001b[0;34m.\u001b[0m\u001b[0masarray\u001b[0m\u001b[0;34m(\u001b[0m\u001b[0mdata\u001b[0m\u001b[0;34m[\u001b[0m\u001b[0mk\u001b[0m\u001b[0;34m]\u001b[0m\u001b[0;34m[\u001b[0m\u001b[0mi\u001b[0m\u001b[0;34m]\u001b[0m\u001b[0;34m)\u001b[0m\u001b[0;34m\u001b[0m\u001b[0;34m\u001b[0m\u001b[0m\n\u001b[1;32m     66\u001b[0m                 \u001b[0;31m#append scan direction\u001b[0m\u001b[0;34m\u001b[0m\u001b[0;34m\u001b[0m\u001b[0;34m\u001b[0m\u001b[0m\n",
      "\u001b[0;31mTypeError\u001b[0m: 'int' object is not iterable"
     ]
    }
   ],
   "source": [
    "data = jv.load_tracer(fids[0])\n",
    "df = pd.DataFrame(data)"
   ]
  },
  {
   "cell_type": "code",
   "execution_count": 54,
   "metadata": {
    "scrolled": true
   },
   "outputs": [
    {
     "data": {
      "text/html": [
       "<div>\n",
       "<style scoped>\n",
       "    .dataframe tbody tr th:only-of-type {\n",
       "        vertical-align: middle;\n",
       "    }\n",
       "\n",
       "    .dataframe tbody tr th {\n",
       "        vertical-align: top;\n",
       "    }\n",
       "\n",
       "    .dataframe thead th {\n",
       "        text-align: right;\n",
       "    }\n",
       "</style>\n",
       "<table border=\"1\" class=\"dataframe\">\n",
       "  <thead>\n",
       "    <tr style=\"text-align: right;\">\n",
       "      <th></th>\n",
       "      <th>id</th>\n",
       "      <th>device</th>\n",
       "      <th>curvetype</th>\n",
       "      <th>area</th>\n",
       "      <th>date</th>\n",
       "      <th>time</th>\n",
       "      <th>v</th>\n",
       "      <th>i</th>\n",
       "      <th>p</th>\n",
       "      <th>j</th>\n",
       "      <th>direction</th>\n",
       "      <th>voc</th>\n",
       "      <th>jsc</th>\n",
       "      <th>ff</th>\n",
       "      <th>pce</th>\n",
       "      <th>vmpp</th>\n",
       "    </tr>\n",
       "  </thead>\n",
       "  <tbody>\n",
       "    <tr>\n",
       "      <th>0</th>\n",
       "      <td>(1 of 2)</td>\n",
       "      <td>C5SAED2_P1_S1</td>\n",
       "      <td>illuminated</td>\n",
       "      <td>0.07</td>\n",
       "      <td>3/12/2020</td>\n",
       "      <td>5:49:51 PM</td>\n",
       "      <td>[-0.19873754, -0.19381961, -0.1836413568, -0.1...</td>\n",
       "      <td>[0.00153846448, 0.00154250023, 0.00153774783, ...</td>\n",
       "      <td>[-0.000305750646132579, -0.00029896679300351, ...</td>\n",
       "      <td>[0.021978064, 0.022035717571428567, 0.02196782...</td>\n",
       "      <td>reverse</td>\n",
       "      <td>1.035202</td>\n",
       "      <td>0.021897</td>\n",
       "      <td>0.695325</td>\n",
       "      <td>0.157615</td>\n",
       "      <td>0.851886</td>\n",
       "    </tr>\n",
       "    <tr>\n",
       "      <th>1</th>\n",
       "      <td>(2 of 2)</td>\n",
       "      <td>C5SAED2_P1_S1</td>\n",
       "      <td>illuminated</td>\n",
       "      <td>0.07</td>\n",
       "      <td>3/12/2020</td>\n",
       "      <td>5:49:51 PM</td>\n",
       "      <td>[-0.214153689, -0.202462888, -0.1933988712, -0...</td>\n",
       "      <td>[0.00159891889, 0.0015935856, 0.001587716662, ...</td>\n",
       "      <td>[-0.000342414378705285, -0.000322641942851213,...</td>\n",
       "      <td>[0.02284169842857143, 0.022765508571428568, 0....</td>\n",
       "      <td>forward</td>\n",
       "      <td>0.914714</td>\n",
       "      <td>0.021023</td>\n",
       "      <td>0.518887</td>\n",
       "      <td>0.099784</td>\n",
       "      <td>0.654879</td>\n",
       "    </tr>\n",
       "    <tr>\n",
       "      <th>2</th>\n",
       "      <td>(1 of 2)</td>\n",
       "      <td>C5SAED2_P2_S1</td>\n",
       "      <td>illuminated</td>\n",
       "      <td>0.07</td>\n",
       "      <td>3/12/2020</td>\n",
       "      <td>5:50:25 PM</td>\n",
       "      <td>[-0.205288765, -0.190382889, -0.1829226124, -0...</td>\n",
       "      <td>[0.00153625266, 0.00153351444, 0.001534547852,...</td>\n",
       "      <td>[-0.000315375411299365, -0.000291954909410417,...</td>\n",
       "      <td>[0.02194646657142857, 0.02190734914285714, 0.0...</td>\n",
       "      <td>reverse</td>\n",
       "      <td>1.034361</td>\n",
       "      <td>0.021671</td>\n",
       "      <td>0.694530</td>\n",
       "      <td>0.155682</td>\n",
       "      <td>0.833903</td>\n",
       "    </tr>\n",
       "    <tr>\n",
       "      <th>3</th>\n",
       "      <td>(2 of 2)</td>\n",
       "      <td>C5SAED2_P2_S1</td>\n",
       "      <td>illuminated</td>\n",
       "      <td>0.07</td>\n",
       "      <td>3/12/2020</td>\n",
       "      <td>5:50:25 PM</td>\n",
       "      <td>[-0.213724807, -0.203169147, -0.1932984842, -0...</td>\n",
       "      <td>[0.00159707417, 0.00158883642, 0.00158376725, ...</td>\n",
       "      <td>[-0.000341334368747935, -0.000322802540173934,...</td>\n",
       "      <td>[0.022815345285714283, 0.02269766314285714, 0....</td>\n",
       "      <td>forward</td>\n",
       "      <td>0.941193</td>\n",
       "      <td>0.021033</td>\n",
       "      <td>0.516741</td>\n",
       "      <td>0.102295</td>\n",
       "      <td>0.636039</td>\n",
       "    </tr>\n",
       "    <tr>\n",
       "      <th>4</th>\n",
       "      <td>(1 of 2)</td>\n",
       "      <td>C5SAED2_P2_S2</td>\n",
       "      <td>illuminated</td>\n",
       "      <td>0.07</td>\n",
       "      <td>3/12/2020</td>\n",
       "      <td>5:51:59 PM</td>\n",
       "      <td>[-0.203559405, -0.192030376, -0.1842162564, -0...</td>\n",
       "      <td>[0.00151826952, 0.00151499566, 0.001516576718,...</td>\n",
       "      <td>[-0.000309058040120836, -0.000290925186228168,...</td>\n",
       "      <td>[0.02168956457142857, 0.021642795142857142, 0....</td>\n",
       "      <td>reverse</td>\n",
       "      <td>1.036091</td>\n",
       "      <td>0.021617</td>\n",
       "      <td>0.676795</td>\n",
       "      <td>0.151586</td>\n",
       "      <td>0.814789</td>\n",
       "    </tr>\n",
       "  </tbody>\n",
       "</table>\n",
       "</div>"
      ],
      "text/plain": [
       "         id         device    curvetype  area       date        time  \\\n",
       "0  (1 of 2)  C5SAED2_P1_S1  illuminated  0.07  3/12/2020  5:49:51 PM   \n",
       "1  (2 of 2)  C5SAED2_P1_S1  illuminated  0.07  3/12/2020  5:49:51 PM   \n",
       "2  (1 of 2)  C5SAED2_P2_S1  illuminated  0.07  3/12/2020  5:50:25 PM   \n",
       "3  (2 of 2)  C5SAED2_P2_S1  illuminated  0.07  3/12/2020  5:50:25 PM   \n",
       "4  (1 of 2)  C5SAED2_P2_S2  illuminated  0.07  3/12/2020  5:51:59 PM   \n",
       "\n",
       "                                                   v  \\\n",
       "0  [-0.19873754, -0.19381961, -0.1836413568, -0.1...   \n",
       "1  [-0.214153689, -0.202462888, -0.1933988712, -0...   \n",
       "2  [-0.205288765, -0.190382889, -0.1829226124, -0...   \n",
       "3  [-0.213724807, -0.203169147, -0.1932984842, -0...   \n",
       "4  [-0.203559405, -0.192030376, -0.1842162564, -0...   \n",
       "\n",
       "                                                   i  \\\n",
       "0  [0.00153846448, 0.00154250023, 0.00153774783, ...   \n",
       "1  [0.00159891889, 0.0015935856, 0.001587716662, ...   \n",
       "2  [0.00153625266, 0.00153351444, 0.001534547852,...   \n",
       "3  [0.00159707417, 0.00158883642, 0.00158376725, ...   \n",
       "4  [0.00151826952, 0.00151499566, 0.001516576718,...   \n",
       "\n",
       "                                                   p  \\\n",
       "0  [-0.000305750646132579, -0.00029896679300351, ...   \n",
       "1  [-0.000342414378705285, -0.000322641942851213,...   \n",
       "2  [-0.000315375411299365, -0.000291954909410417,...   \n",
       "3  [-0.000341334368747935, -0.000322802540173934,...   \n",
       "4  [-0.000309058040120836, -0.000290925186228168,...   \n",
       "\n",
       "                                                   j direction       voc  \\\n",
       "0  [0.021978064, 0.022035717571428567, 0.02196782...   reverse  1.035202   \n",
       "1  [0.02284169842857143, 0.022765508571428568, 0....   forward  0.914714   \n",
       "2  [0.02194646657142857, 0.02190734914285714, 0.0...   reverse  1.034361   \n",
       "3  [0.022815345285714283, 0.02269766314285714, 0....   forward  0.941193   \n",
       "4  [0.02168956457142857, 0.021642795142857142, 0....   reverse  1.036091   \n",
       "\n",
       "        jsc        ff       pce      vmpp  \n",
       "0  0.021897  0.695325  0.157615  0.851886  \n",
       "1  0.021023  0.518887  0.099784  0.654879  \n",
       "2  0.021671  0.694530  0.155682  0.833903  \n",
       "3  0.021033  0.516741  0.102295  0.636039  \n",
       "4  0.021617  0.676795  0.151586  0.814789  "
      ]
     },
     "execution_count": 54,
     "metadata": {},
     "output_type": "execute_result"
    }
   ],
   "source": [
    "df.head()"
   ]
  },
  {
   "cell_type": "code",
   "execution_count": 7,
   "metadata": {},
   "outputs": [],
   "source": [
    "dfc = df.dropna() # note that this will drop dark curves as well\n",
    "dfc = dfc[\n",
    "    (dfc['ff'] <= 1) #nothing should have more than 100% fill factor\n",
    "    & (dfc['pce'] >= 0.05) #removing data with pce below 5%, can be modified/removed depending on analysis\n",
    "]"
   ]
  },
  {
   "cell_type": "markdown",
   "metadata": {},
   "source": [
    "## Quick Summary Statistics"
   ]
  },
  {
   "cell_type": "code",
   "execution_count": 50,
   "metadata": {},
   "outputs": [
    {
     "data": {
      "text/html": [
       "<div>\n",
       "<style scoped>\n",
       "    .dataframe tbody tr th:only-of-type {\n",
       "        vertical-align: middle;\n",
       "    }\n",
       "\n",
       "    .dataframe tbody tr th {\n",
       "        vertical-align: top;\n",
       "    }\n",
       "\n",
       "    .dataframe thead th {\n",
       "        text-align: right;\n",
       "    }\n",
       "</style>\n",
       "<table border=\"1\" class=\"dataframe\">\n",
       "  <thead>\n",
       "    <tr style=\"text-align: right;\">\n",
       "      <th></th>\n",
       "      <th>pce</th>\n",
       "      <th>ff</th>\n",
       "      <th>jsc</th>\n",
       "      <th>voc</th>\n",
       "      <th>vmpp</th>\n",
       "    </tr>\n",
       "  </thead>\n",
       "  <tbody>\n",
       "    <tr>\n",
       "      <th>count</th>\n",
       "      <td>122.000000</td>\n",
       "      <td>122.000000</td>\n",
       "      <td>122.000000</td>\n",
       "      <td>122.000000</td>\n",
       "      <td>122.000000</td>\n",
       "    </tr>\n",
       "    <tr>\n",
       "      <th>mean</th>\n",
       "      <td>0.096328</td>\n",
       "      <td>0.538834</td>\n",
       "      <td>0.019239</td>\n",
       "      <td>0.792664</td>\n",
       "      <td>0.595847</td>\n",
       "    </tr>\n",
       "    <tr>\n",
       "      <th>std</th>\n",
       "      <td>0.053076</td>\n",
       "      <td>0.153613</td>\n",
       "      <td>0.004612</td>\n",
       "      <td>0.325245</td>\n",
       "      <td>0.273394</td>\n",
       "    </tr>\n",
       "    <tr>\n",
       "      <th>min</th>\n",
       "      <td>0.000088</td>\n",
       "      <td>0.262404</td>\n",
       "      <td>0.000054</td>\n",
       "      <td>0.007673</td>\n",
       "      <td>0.006502</td>\n",
       "    </tr>\n",
       "    <tr>\n",
       "      <th>25%</th>\n",
       "      <td>0.058247</td>\n",
       "      <td>0.410745</td>\n",
       "      <td>0.019528</td>\n",
       "      <td>0.752059</td>\n",
       "      <td>0.483401</td>\n",
       "    </tr>\n",
       "    <tr>\n",
       "      <th>50%</th>\n",
       "      <td>0.108767</td>\n",
       "      <td>0.564674</td>\n",
       "      <td>0.021016</td>\n",
       "      <td>0.950898</td>\n",
       "      <td>0.710588</td>\n",
       "    </tr>\n",
       "    <tr>\n",
       "      <th>75%</th>\n",
       "      <td>0.139770</td>\n",
       "      <td>0.674204</td>\n",
       "      <td>0.021500</td>\n",
       "      <td>0.997971</td>\n",
       "      <td>0.795958</td>\n",
       "    </tr>\n",
       "    <tr>\n",
       "      <th>max</th>\n",
       "      <td>0.171119</td>\n",
       "      <td>1.000000</td>\n",
       "      <td>0.022417</td>\n",
       "      <td>1.044184</td>\n",
       "      <td>0.939388</td>\n",
       "    </tr>\n",
       "  </tbody>\n",
       "</table>\n",
       "</div>"
      ],
      "text/plain": [
       "              pce          ff         jsc         voc        vmpp\n",
       "count  122.000000  122.000000  122.000000  122.000000  122.000000\n",
       "mean     0.096328    0.538834    0.019239    0.792664    0.595847\n",
       "std      0.053076    0.153613    0.004612    0.325245    0.273394\n",
       "min      0.000088    0.262404    0.000054    0.007673    0.006502\n",
       "25%      0.058247    0.410745    0.019528    0.752059    0.483401\n",
       "50%      0.108767    0.564674    0.021016    0.950898    0.710588\n",
       "75%      0.139770    0.674204    0.021500    0.997971    0.795958\n",
       "max      0.171119    1.000000    0.022417    1.044184    0.939388"
      ]
     },
     "execution_count": 50,
     "metadata": {},
     "output_type": "execute_result"
    }
   ],
   "source": [
    "columns = ['pce', 'ff', 'jsc', 'voc', 'vmpp']\n",
    "dfc[columns].describe()"
   ]
  },
  {
   "cell_type": "markdown",
   "metadata": {},
   "source": [
    "## Label experimental conditions"
   ]
  },
  {
   "cell_type": "markdown",
   "metadata": {},
   "source": [
    "The specific functions here will be dependent on your experiment. The goal is to make a column for each condition varied in your dataset, with the condition marked per row. This will speed up data analysis, since the dataframe can be sliced/analyzed along experimental condtions"
   ]
  },
  {
   "cell_type": "code",
   "execution_count": 9,
   "metadata": {},
   "outputs": [],
   "source": [
    "def pbexcess(name):\n",
    "    if 'C5' in name:\n",
    "        return 0.05\n",
    "    elif 'C9' in name:\n",
    "        return 0.09\n",
    "    else:\n",
    "        return np.nan\n",
    "dfc['pb_excess'] = dfc['device'].apply(pbexcess)"
   ]
  },
  {
   "cell_type": "code",
   "execution_count": 10,
   "metadata": {},
   "outputs": [],
   "source": [
    "def anneal(name):\n",
    "    if 'SA' in name:\n",
    "        return 'standard'\n",
    "    elif 'EA' in name:\n",
    "        return 'experimental'\n",
    "    else:\n",
    "        return np.nan\n",
    "dfc['anneal'] = dfc['device'].apply(anneal)"
   ]
  },
  {
   "cell_type": "code",
   "execution_count": 11,
   "metadata": {},
   "outputs": [],
   "source": [
    "def droptime(name):\n",
    "    if 'SD' in name:\n",
    "        return 'standard'\n",
    "    elif 'ED' in name:\n",
    "        return 'experimental'\n",
    "    else:\n",
    "        return np.nan\n",
    "dfc['antisolventdrop'] = dfc['device'].apply(droptime)"
   ]
  },
  {
   "cell_type": "code",
   "execution_count": 12,
   "metadata": {},
   "outputs": [],
   "source": [
    "def pixel(name):\n",
    "    if '_P1_' in name:\n",
    "        return 1\n",
    "    elif '_P2_' in name:\n",
    "        return 2\n",
    "    elif '_P3_' in name:\n",
    "        return 3\n",
    "    else:\n",
    "        return np.nan\n",
    "dfc['pixel'] = dfc['device'].apply(pixel)"
   ]
  },
  {
   "cell_type": "code",
   "execution_count": 13,
   "metadata": {},
   "outputs": [
    {
     "data": {
      "text/html": [
       "<div>\n",
       "<style scoped>\n",
       "    .dataframe tbody tr th:only-of-type {\n",
       "        vertical-align: middle;\n",
       "    }\n",
       "\n",
       "    .dataframe tbody tr th {\n",
       "        vertical-align: top;\n",
       "    }\n",
       "\n",
       "    .dataframe thead th {\n",
       "        text-align: right;\n",
       "    }\n",
       "</style>\n",
       "<table border=\"1\" class=\"dataframe\">\n",
       "  <thead>\n",
       "    <tr style=\"text-align: right;\">\n",
       "      <th></th>\n",
       "      <th>id</th>\n",
       "      <th>device</th>\n",
       "      <th>curvetype</th>\n",
       "      <th>area</th>\n",
       "      <th>date</th>\n",
       "      <th>time</th>\n",
       "      <th>v</th>\n",
       "      <th>i</th>\n",
       "      <th>p</th>\n",
       "      <th>j</th>\n",
       "      <th>...</th>\n",
       "      <th>jfit</th>\n",
       "      <th>voc</th>\n",
       "      <th>jsc</th>\n",
       "      <th>vmpp</th>\n",
       "      <th>pce</th>\n",
       "      <th>ff</th>\n",
       "      <th>pb_excess</th>\n",
       "      <th>anneal</th>\n",
       "      <th>antisolventdrop</th>\n",
       "      <th>pixel</th>\n",
       "    </tr>\n",
       "  </thead>\n",
       "  <tbody>\n",
       "    <tr>\n",
       "      <th>0</th>\n",
       "      <td>(1 of 2)</td>\n",
       "      <td>C5SAED2_P1_S1</td>\n",
       "      <td>illuminated</td>\n",
       "      <td>0.07</td>\n",
       "      <td>3/12/2020</td>\n",
       "      <td>5:49:51 PM</td>\n",
       "      <td>[-0.19873754, -0.19381961, -0.1836413568, -0.1...</td>\n",
       "      <td>[0.00153846448, 0.00154250023, 0.00153774783, ...</td>\n",
       "      <td>[-0.000305750646132579, -0.00029896679300351, ...</td>\n",
       "      <td>[0.021978064, 0.022035717571428567, 0.02196782...</td>\n",
       "      <td>...</td>\n",
       "      <td>[0.024086749486708196, 0.024086749485541417, 0...</td>\n",
       "      <td>1.035202</td>\n",
       "      <td>0.021897</td>\n",
       "      <td>0.851886</td>\n",
       "      <td>0.157615</td>\n",
       "      <td>0.695325</td>\n",
       "      <td>0.05</td>\n",
       "      <td>standard</td>\n",
       "      <td>experimental</td>\n",
       "      <td>1</td>\n",
       "    </tr>\n",
       "    <tr>\n",
       "      <th>1</th>\n",
       "      <td>(2 of 2)</td>\n",
       "      <td>C5SAED2_P1_S1</td>\n",
       "      <td>illuminated</td>\n",
       "      <td>0.07</td>\n",
       "      <td>3/12/2020</td>\n",
       "      <td>5:49:51 PM</td>\n",
       "      <td>[-0.214153689, -0.202462888, -0.1933988712, -0...</td>\n",
       "      <td>[0.00159891889, 0.0015935856, 0.001587716662, ...</td>\n",
       "      <td>[-0.000342414378705285, -0.000322641942851213,...</td>\n",
       "      <td>[0.02284169842857143, 0.022765508571428568, 0....</td>\n",
       "      <td>...</td>\n",
       "      <td>[0.023125709847170852, 0.0231257098389506, 0.0...</td>\n",
       "      <td>0.914714</td>\n",
       "      <td>0.021023</td>\n",
       "      <td>0.654879</td>\n",
       "      <td>0.099784</td>\n",
       "      <td>0.518887</td>\n",
       "      <td>0.05</td>\n",
       "      <td>standard</td>\n",
       "      <td>experimental</td>\n",
       "      <td>1</td>\n",
       "    </tr>\n",
       "    <tr>\n",
       "      <th>2</th>\n",
       "      <td>(1 of 2)</td>\n",
       "      <td>C5SAED2_P2_S1</td>\n",
       "      <td>illuminated</td>\n",
       "      <td>0.07</td>\n",
       "      <td>3/12/2020</td>\n",
       "      <td>5:50:25 PM</td>\n",
       "      <td>[-0.205288765, -0.190382889, -0.1829226124, -0...</td>\n",
       "      <td>[0.00153625266, 0.00153351444, 0.001534547852,...</td>\n",
       "      <td>[-0.000315375411299365, -0.000291954909410417,...</td>\n",
       "      <td>[0.02194646657142857, 0.02190734914285714, 0.0...</td>\n",
       "      <td>...</td>\n",
       "      <td>[0.023837905324219602, 0.023837905321996568, 0...</td>\n",
       "      <td>1.034361</td>\n",
       "      <td>0.021671</td>\n",
       "      <td>0.833903</td>\n",
       "      <td>0.155682</td>\n",
       "      <td>0.694530</td>\n",
       "      <td>0.05</td>\n",
       "      <td>standard</td>\n",
       "      <td>experimental</td>\n",
       "      <td>2</td>\n",
       "    </tr>\n",
       "    <tr>\n",
       "      <th>3</th>\n",
       "      <td>(2 of 2)</td>\n",
       "      <td>C5SAED2_P2_S1</td>\n",
       "      <td>illuminated</td>\n",
       "      <td>0.07</td>\n",
       "      <td>3/12/2020</td>\n",
       "      <td>5:50:25 PM</td>\n",
       "      <td>[-0.213724807, -0.203169147, -0.1932984842, -0...</td>\n",
       "      <td>[0.00159707417, 0.00158883642, 0.00158376725, ...</td>\n",
       "      <td>[-0.000341334368747935, -0.000322802540173934,...</td>\n",
       "      <td>[0.022815345285714283, 0.02269766314285714, 0....</td>\n",
       "      <td>...</td>\n",
       "      <td>[0.0231364590165551, 0.023136459011844135, 0.0...</td>\n",
       "      <td>0.932762</td>\n",
       "      <td>0.021033</td>\n",
       "      <td>0.636039</td>\n",
       "      <td>0.102295</td>\n",
       "      <td>0.521411</td>\n",
       "      <td>0.05</td>\n",
       "      <td>standard</td>\n",
       "      <td>experimental</td>\n",
       "      <td>2</td>\n",
       "    </tr>\n",
       "    <tr>\n",
       "      <th>4</th>\n",
       "      <td>(1 of 2)</td>\n",
       "      <td>C5SAED2_P2_S2</td>\n",
       "      <td>illuminated</td>\n",
       "      <td>0.07</td>\n",
       "      <td>3/12/2020</td>\n",
       "      <td>5:51:59 PM</td>\n",
       "      <td>[-0.203559405, -0.192030376, -0.1842162564, -0...</td>\n",
       "      <td>[0.00151826952, 0.00151499566, 0.001516576718,...</td>\n",
       "      <td>[-0.000309058040120836, -0.000290925186228168,...</td>\n",
       "      <td>[0.02168956457142857, 0.021642795142857142, 0....</td>\n",
       "      <td>...</td>\n",
       "      <td>[0.023779239534958134, 0.023779239533960543, 0...</td>\n",
       "      <td>1.036091</td>\n",
       "      <td>0.021617</td>\n",
       "      <td>0.814789</td>\n",
       "      <td>0.151586</td>\n",
       "      <td>0.676795</td>\n",
       "      <td>0.05</td>\n",
       "      <td>standard</td>\n",
       "      <td>experimental</td>\n",
       "      <td>2</td>\n",
       "    </tr>\n",
       "  </tbody>\n",
       "</table>\n",
       "<p>5 rows × 27 columns</p>\n",
       "</div>"
      ],
      "text/plain": [
       "         id         device    curvetype  area       date        time  \\\n",
       "0  (1 of 2)  C5SAED2_P1_S1  illuminated  0.07  3/12/2020  5:49:51 PM   \n",
       "1  (2 of 2)  C5SAED2_P1_S1  illuminated  0.07  3/12/2020  5:49:51 PM   \n",
       "2  (1 of 2)  C5SAED2_P2_S1  illuminated  0.07  3/12/2020  5:50:25 PM   \n",
       "3  (2 of 2)  C5SAED2_P2_S1  illuminated  0.07  3/12/2020  5:50:25 PM   \n",
       "4  (1 of 2)  C5SAED2_P2_S2  illuminated  0.07  3/12/2020  5:51:59 PM   \n",
       "\n",
       "                                                   v  \\\n",
       "0  [-0.19873754, -0.19381961, -0.1836413568, -0.1...   \n",
       "1  [-0.214153689, -0.202462888, -0.1933988712, -0...   \n",
       "2  [-0.205288765, -0.190382889, -0.1829226124, -0...   \n",
       "3  [-0.213724807, -0.203169147, -0.1932984842, -0...   \n",
       "4  [-0.203559405, -0.192030376, -0.1842162564, -0...   \n",
       "\n",
       "                                                   i  \\\n",
       "0  [0.00153846448, 0.00154250023, 0.00153774783, ...   \n",
       "1  [0.00159891889, 0.0015935856, 0.001587716662, ...   \n",
       "2  [0.00153625266, 0.00153351444, 0.001534547852,...   \n",
       "3  [0.00159707417, 0.00158883642, 0.00158376725, ...   \n",
       "4  [0.00151826952, 0.00151499566, 0.001516576718,...   \n",
       "\n",
       "                                                   p  \\\n",
       "0  [-0.000305750646132579, -0.00029896679300351, ...   \n",
       "1  [-0.000342414378705285, -0.000322641942851213,...   \n",
       "2  [-0.000315375411299365, -0.000291954909410417,...   \n",
       "3  [-0.000341334368747935, -0.000322802540173934,...   \n",
       "4  [-0.000309058040120836, -0.000290925186228168,...   \n",
       "\n",
       "                                                   j  ...  \\\n",
       "0  [0.021978064, 0.022035717571428567, 0.02196782...  ...   \n",
       "1  [0.02284169842857143, 0.022765508571428568, 0....  ...   \n",
       "2  [0.02194646657142857, 0.02190734914285714, 0.0...  ...   \n",
       "3  [0.022815345285714283, 0.02269766314285714, 0....  ...   \n",
       "4  [0.02168956457142857, 0.021642795142857142, 0....  ...   \n",
       "\n",
       "                                                jfit       voc       jsc  \\\n",
       "0  [0.024086749486708196, 0.024086749485541417, 0...  1.035202  0.021897   \n",
       "1  [0.023125709847170852, 0.0231257098389506, 0.0...  0.914714  0.021023   \n",
       "2  [0.023837905324219602, 0.023837905321996568, 0...  1.034361  0.021671   \n",
       "3  [0.0231364590165551, 0.023136459011844135, 0.0...  0.932762  0.021033   \n",
       "4  [0.023779239534958134, 0.023779239533960543, 0...  1.036091  0.021617   \n",
       "\n",
       "       vmpp       pce        ff pb_excess    anneal  antisolventdrop  pixel  \n",
       "0  0.851886  0.157615  0.695325      0.05  standard     experimental      1  \n",
       "1  0.654879  0.099784  0.518887      0.05  standard     experimental      1  \n",
       "2  0.833903  0.155682  0.694530      0.05  standard     experimental      2  \n",
       "3  0.636039  0.102295  0.521411      0.05  standard     experimental      2  \n",
       "4  0.814789  0.151586  0.676795      0.05  standard     experimental      2  \n",
       "\n",
       "[5 rows x 27 columns]"
      ]
     },
     "execution_count": 13,
     "metadata": {},
     "output_type": "execute_result"
    }
   ],
   "source": [
    "dfc.head()"
   ]
  },
  {
   "cell_type": "markdown",
   "metadata": {},
   "source": [
    "Save your cleaned up dataframe"
   ]
  },
  {
   "cell_type": "code",
   "execution_count": 14,
   "metadata": {},
   "outputs": [],
   "source": [
    "dfc.to_csv('Cleaned_Dataframe.csv')"
   ]
  },
  {
   "cell_type": "markdown",
   "metadata": {},
   "source": [
    "## Data Visualization"
   ]
  },
  {
   "cell_type": "code",
   "execution_count": 17,
   "metadata": {},
   "outputs": [
    {
     "data": {
      "text/plain": [
       "<matplotlib.axes._subplots.AxesSubplot at 0x1a18e3c470>"
      ]
     },
     "execution_count": 17,
     "metadata": {},
     "output_type": "execute_result"
    },
    {
     "data": {
      "image/png": "[encoded data removed]",
      "text/plain": [
       "<Figure size 432x288 with 1 Axes>"
      ]
     },
     "metadata": {
      "needs_background": "light"
     },
     "output_type": "display_data"
    }
   ],
   "source": [
    "sns.boxplot(\n",
    "    x = 'antisolventdrop',\n",
    "    hue = 'anneal',\n",
    "    y = 'pce',\n",
    "    data = dfc[dfc['pixel'] == 2], #specifying pixel 2 (center pixel) for analysis\n",
    ")"
   ]
  },
  {
   "cell_type": "code",
   "execution_count": 21,
   "metadata": {},
   "outputs": [
    {
     "data": {
      "image/png": "[encoded data removed]",
      "text/plain": [
       "<Figure size 432x432 with 4 Axes>"
      ]
     },
     "metadata": {
      "needs_background": "light"
     },
     "output_type": "display_data"
    }
   ],
   "source": [
    "g = sns.FacetGrid(\n",
    "    dfc, \n",
    "    col = \"antisolventdrop\", \n",
    "    row = \"anneal\", \n",
    "    hue = \"pb_excess\",\n",
    "    palette = 'Set1',\n",
    "    margin_titles = True\n",
    ")\n",
    "\n",
    "g = g.map(plt.scatter, \"jsc\", 'voc')"
   ]
  },
  {
   "cell_type": "markdown",
   "metadata": {},
   "source": [
    "# Plotting the Subset"
   ]
  },
  {
   "cell_type": "code",
   "execution_count": 19,
   "metadata": {},
   "outputs": [
    {
     "data": {
      "image/png": "[encoded data removed]",
      "text/plain": [
       "<Figure size 640x480 with 1 Axes>"
      ]
     },
     "metadata": {},
     "output_type": "display_data"
    }
   ],
   "source": [
    "# filtered DataFrame to Plot\n",
    "DF = df_filter3 \n",
    "\n",
    "mpl.rcParams.update(mpl.rcParamsDefault)\n",
    "\n",
    "for q in range (0, len(DF), 1):\n",
    "\n",
    "    plt.plot(DF.loc[q]['Voltage'],DF.loc[q]['Current']/np.float(DF.loc[q]['Size'])*1000, label=DF.loc[q]['Device']+ ' PCE='+ str(round(DF.loc[q]['PCE'],2)))\n",
    "#     plt.plot(DF.loc[q]['Voltage'],DF.loc[q]['Power']/np.float(DF.loc[q]['Size'])*1000, label=DF.loc[q]['Device']+' '+'Power Curve')\n",
    "\n",
    "plt.legend()\n",
    "plt.title('JV')\n",
    "plt.ylim(0,25)\n",
    "plt.xlim(0,1.2)\n",
    "\n",
    "plt.ylabel('Current Density Collected \\ mA/cm2')\n",
    "plt.xlabel('Voltage Bias \\ V')\n",
    "plt.show()"
   ]
  }
 ],
 "metadata": {
  "kernelspec": {
   "display_name": "Python 3",
   "language": "python",
   "name": "python3"
  },
  "language_info": {
   "codemirror_mode": {
    "name": "ipython",
    "version": 3
   },
   "file_extension": ".py",
   "mimetype": "text/x-python",
   "name": "python",
   "nbconvert_exporter": "python",
   "pygments_lexer": "ipython3",
   "version": "3.7.3"
  }
 },
 "nbformat": 4,
 "nbformat_minor": 4
}
