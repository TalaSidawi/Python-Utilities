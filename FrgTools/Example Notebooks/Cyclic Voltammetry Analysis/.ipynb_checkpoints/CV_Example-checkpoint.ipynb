{
 "cells": [
  {
   "cell_type": "code",
   "execution_count": 1,
   "metadata": {},
   "outputs": [],
   "source": [
    "import os\n",
    "import csv\n",
    "import numpy as np\n",
    "import frgtools.misc as frgm\n",
    "import matplotlib.pyplot as plt"
   ]
  },
  {
   "cell_type": "code",
   "execution_count": 3,
   "metadata": {},
   "outputs": [
    {
     "name": "stdout",
     "output_type": "stream",
     "text": [
      "Files in 'Data':\n",
      "0:180_11.4_FTO_02_CV_C02.txt\n"
     ]
    }
   ],
   "source": [
    "fids = frgm.listdir('Data')"
   ]
  },
  {
   "cell_type": "code",
   "execution_count": 12,
   "metadata": {},
   "outputs": [
    {
     "data": {
      "text/plain": [
       "{'v': array([0.19229576, 0.19345422, 0.19439143, ..., 0.19039437, 0.19128586,\n",
       "        0.19239724]),\n",
       " 'j': array([0.00034713, 0.00034614, 0.00034744, ..., 0.00037424, 0.00037562,\n",
       "        0.00040446]),\n",
       " 'numscans': 4,\n",
       " 'area': 1,\n",
       " 'scans': {'mode': [array([2., 2., 2., ..., 2., 2., 2.]),\n",
       "   array([2., 2., 2., ..., 2., 2., 2.]),\n",
       "   array([2., 2., 2., ..., 2., 2., 2.]),\n",
       "   array([2., 2., 2., ..., 2., 2., 2.])],\n",
       "  'ox/red': [array([1., 1., 1., ..., 1., 1., 1.]),\n",
       "   array([1., 1., 1., ..., 1., 1., 1.]),\n",
       "   array([1., 1., 1., ..., 1., 1., 1.]),\n",
       "   array([1., 1., 1., ..., 1., 1., 1.])],\n",
       "  'error': [array([0., 0., 0., ..., 0., 0., 0.]),\n",
       "   array([0., 0., 0., ..., 0., 0., 0.]),\n",
       "   array([0., 0., 0., ..., 0., 0., 0.]),\n",
       "   array([0., 0., 0., ..., 0., 0., 0.])],\n",
       "  'control changes': [array([0., 1., 1., ..., 1., 1., 1.]),\n",
       "   array([0., 1., 1., ..., 1., 1., 1.]),\n",
       "   array([1., 1., 1., ..., 1., 1., 1.]),\n",
       "   array([1., 1., 1., ..., 0., 0., 0.])],\n",
       "  'counter inc.': [array([0., 0., 0., ..., 1., 1., 1.]),\n",
       "   array([1., 1., 1., ..., 0., 0., 0.]),\n",
       "   array([0., 0., 0., ..., 1., 1., 1.]),\n",
       "   array([1., 1., 1., ..., 0., 0., 0.])],\n",
       "  'time': [array([  3.6376,   3.6651,   3.7151, ..., 213.5307, 213.5807, 213.6082]),\n",
       "   array([213.6132, 213.6407, 213.6907, ..., 423.4827, 423.5327, 423.5827]),\n",
       "   array([423.6327, 423.6827, 423.7327, ..., 633.4863, 633.5363, 633.5863]),\n",
       "   array([633.6363, 633.6863, 633.7363, ..., 843.5393, 843.5843, 843.6068])],\n",
       "  'control': [array([0.19208948, 0.19263943, 0.19363941, ..., 0.18989943, 0.19089942,\n",
       "          0.19144948]),\n",
       "   array([0.19154948, 0.19209942, 0.19309942, ..., 0.18890743, 0.18990742,\n",
       "          0.1909074 ]),\n",
       "   array([0.19190742, 0.19290741, 0.19390741, ..., 0.18895541, 0.18995541,\n",
       "          0.19095541]),\n",
       "   array([0.19195542, 0.1929554 , 0.19395542, ..., 0.19001141, 0.19091141,\n",
       "          0.19136147])],\n",
       "  'v': [array([0.19221958, 0.19306683, 0.19405744, ..., 0.19042046, 0.19130042,\n",
       "          0.19168135]),\n",
       "   array([0.19187029, 0.19259544, 0.1935765 , ..., 0.18930238, 0.19025581,\n",
       "          0.19138187]),\n",
       "   array([0.19220364, 0.19313323, 0.19424689, ..., 0.18943456, 0.19038701,\n",
       "          0.19140625]),\n",
       "   array([0.19229576, 0.19345422, 0.19439143, ..., 0.19039437, 0.19128586,\n",
       "          0.19239724])],\n",
       "  'i': [array([-6.26124907e-04, -2.78200574e-04, -8.87431438e-05, ...,\n",
       "           4.32466576e-04,  4.33672150e-04,  4.48781315e-04]),\n",
       "   array([0.00040948, 0.00043825, 0.00043882, ..., 0.00037397, 0.0003751 ,\n",
       "          0.00037545]),\n",
       "   array([0.00037765, 0.00037833, 0.00037715, ..., 0.00034507, 0.00034461,\n",
       "          0.000345  ]),\n",
       "   array([0.00034713, 0.00034614, 0.00034744, ..., 0.00037424, 0.00037562,\n",
       "          0.00040446])],\n",
       "  'cycle': [array([1., 1., 1., ..., 1., 1., 1.]),\n",
       "   array([2., 2., 2., ..., 2., 2., 2.]),\n",
       "   array([3., 3., 3., ..., 3., 3., 3.]),\n",
       "   array([4., 4., 4., ..., 4., 4., 4.])],\n",
       "  '(Q-Qo)': [array([ 0.00000000e+00, -8.11192535e-09, -1.57395217e-08, ...,\n",
       "          -7.30102402e-05, -7.29882522e-05, -7.29761014e-05]),\n",
       "   array([-7.29739913e-05, -7.29618841e-05, -7.29397434e-05, ...,\n",
       "          -5.32050559e-04, -5.32031525e-04, -5.32012491e-04]),\n",
       "   array([-0.00053199, -0.00053197, -0.00053195, ..., -0.00111854,\n",
       "          -0.00111852, -0.0011185 ]),\n",
       "   array([-0.00111848, -0.00111847, -0.00111845, ..., -0.00175379,\n",
       "          -0.00175377, -0.00175376])],\n",
       "  'Rcmp': [array([22.8278255, 22.8278179, 22.8278179, ..., 22.8278179, 22.8278179,\n",
       "          22.8278255]),\n",
       "   array([22.8278255, 22.8278179, 22.8278179, ..., 22.8278179, 22.8278179,\n",
       "          22.8278179]),\n",
       "   array([22.8278179, 22.8278179, 22.8278179, ..., 22.8278179, 22.8278179,\n",
       "          22.8278179]),\n",
       "   array([22.8278179, 22.8278179, 22.8278179, ..., 22.8278179, 22.8278179,\n",
       "          22.8278255])],\n",
       "  'P': [array([1.20353477e-07, 5.37113038e-08, 1.72212662e-08, ...,\n",
       "          8.23504891e-08, 8.29616624e-08, 8.60230074e-08]),\n",
       "   array([7.85664085e-08, 8.44045189e-08, 8.49461586e-08, ...,\n",
       "          7.07927867e-08, 7.13644823e-08, 7.18542950e-08]),\n",
       "   array([7.25851166e-08, 7.30689678e-08, 7.32607077e-08, ...,\n",
       "          6.53681198e-08, 6.56098820e-08, 6.60351063e-08]),\n",
       "   array([6.67515323e-08, 6.69621585e-08, 6.75388989e-08, ...,\n",
       "          7.12523089e-08, 7.18502164e-08, 7.78171412e-08])],\n",
       "  'j': [array([-6.26124907e-04, -2.78200574e-04, -8.87431438e-05, ...,\n",
       "           4.32466576e-04,  4.33672150e-04,  4.48781315e-04]),\n",
       "   array([0.00040948, 0.00043825, 0.00043882, ..., 0.00037397, 0.0003751 ,\n",
       "          0.00037545]),\n",
       "   array([0.00037765, 0.00037833, 0.00037715, ..., 0.00034507, 0.00034461,\n",
       "          0.000345  ]),\n",
       "   array([0.00034713, 0.00034614, 0.00034744, ..., 0.00037424, 0.00037562,\n",
       "          0.00040446])]},\n",
       " 'header': {'Nb header lines': '54',\n",
       "  'Run on channel': '2 (SN 2827)',\n",
       "  'User': '',\n",
       "  'Electrode connection': 'standard',\n",
       "  'Ewe ctrl range': 'min = -2.50 V, max = 2.50 V',\n",
       "  'Ewe,I filtering': '50 kHz',\n",
       "  'Channel': 'Floating',\n",
       "  'File': '180_11.4_FTO_02_CV_C02.mpr',\n",
       "  'Directory': 'C:\\\\Data\\\\Justin\\\\09_04_2019_pvd_SnOxCV\\\\',\n",
       "  'Host': '192.109.209.127',\n",
       "  'Device': 'VSP-300 (SN 0229)',\n",
       "  'Address': '192.109.209.128',\n",
       "  'Electrode material': '',\n",
       "  'Initial state': '',\n",
       "  'Electrolyte': '',\n",
       "  'Comments': '',\n",
       "  'Cable': 'standard',\n",
       "  'Reference electrode': 'SCE Saturated Calomel Electrode (0.241 V)',\n",
       "  'Electrode surface area': '0.001 cm',\n",
       "  'Characteristic mass': '0.001 g',\n",
       "  'Equivalent Weight': '0.000 g/eq.',\n",
       "  'Density': '0.000 g/cm3',\n",
       "  'Ei (V)': '0.000 vs. Eoc',\n",
       "  'dE/dt': '20.000',\n",
       "  'dE/dt unit': 'mV/s',\n",
       "  'E1 (V)': '1.500 vs. Ref',\n",
       "  'Step percent': '50',\n",
       "  'N': '10',\n",
       "  'E range min (V)': '-2.500',\n",
       "  'E range max (V)': '2.500',\n",
       "  'I Range': 'Auto',\n",
       "  'I Range min': 'Unset',\n",
       "  'I Range max': 'Unset',\n",
       "  'I Range init': 'Unset',\n",
       "  'Bandwidth': '8',\n",
       "  'E2 (V)': '-0.600 vs. Ref',\n",
       "  'nc cycles': '3',\n",
       "  'Reverse Scan': '1',\n",
       "  'Ef (V)': '0.000 vs. Eoc'},\n",
       " 'date': '09/05/2019',\n",
       " 'time': '17:27:53\\n',\n",
       " 'cathodic_peak': -0.444778711,\n",
       " 'anodic_peak': 0.010884792647427984,\n",
       " 'inflection_onset': -0.309950382,\n",
       " 'intersect_onset': [-0.18963104576730827, -0.00028764459757954497]}"
      ]
     },
     "execution_count": 12,
     "metadata": {},
     "output_type": "execute_result"
    }
   ],
   "source": [
    "filepath = r\"C:\\Users\\Skaggs\\Desktop\\Perovskites\\2019_08_09 CV SnOx\\10nm\\180_11.4_FTO_02_CV_C02.txt\"\n",
    "getCV(filepath)"
   ]
  },
  {
   "cell_type": "code",
   "execution_count": 8,
   "metadata": {},
   "outputs": [],
   "source": [
    "# getCV\n",
    "\"\"\"\n",
    "Loads CV data from a text file. Pulls the last curve out of the\n",
    "repeats (red/ox cycle).\n",
    "Returns structure. \n",
    "\n",
    "Example: mydata = getCV(use UI to select file)\n",
    "\n",
    "\t\t mydata = getCV ('C:\\Myname\\CV\\File.ras')   (directly offer fpath)\n",
    "\n",
    "Output: Structure with J and V from the final run, along with all other associated data in text file.\n",
    "    mydata['v'] --> voltage\n",
    "    mydata['j'] --> current density\n",
    "        ['header'] --> all info from the header\n",
    "        ['area']\n",
    "        ['date']\n",
    "        ['time']\n",
    "        ['num_cycles']\n",
    "        ['cathodic_peak'] --> onset potential method 1\n",
    "        ['anodic_peak'] --> anodic peak current (at the right most end (highest positive potential))\n",
    "        ['inflection_onset'] --> onset method 2\n",
    "        ['intersect_onset'] --> onset method 3\n",
    "        ['scans'] --> \n",
    "            [j][#]\n",
    "            [v][#]\n",
    "            \n",
    "            \n",
    "Onset potential methods: \n",
    "\t1: Direct minimum\n",
    "\t2: Inflection point\n",
    "\t3: Intersection at baseline\n",
    "\n",
    "\"\"\"\n",
    "import os\n",
    "import numpy as np\n",
    "import csv\n",
    "# from .plotting import directionalplot\n",
    "\n",
    "def getCV(fpath, area =1):\n",
    "    cvdata = load_cv(fpath)\n",
    "    cvdata = getOnsetPotentials(cvdata)\n",
    "    return cvdata\n",
    "\n",
    "def load_cv(fpath, area = 1):\n",
    "\t# headerkey = {\n",
    "\t#     'Run on channel': 'channel',\n",
    "\t#     'Electrode connection': 'electrode_connection',\n",
    "\t#     'Ewe,I filtering': 'ewe_ifilter',\n",
    "\t#     'Channel': 'channel',\n",
    "\t#     'Acquisition started on': 'datetime',\n",
    "\t#     'Reference electrode': 'ref_electrode',\n",
    "\t# }\n",
    "\n",
    "\n",
    "\tDATA_START = 'mode\\tox/red\\terror'\n",
    "\n",
    "\tdata = {\n",
    "\t\t'v': None,\n",
    "\t\t'j': None,\n",
    "\t\t'numscans': None,\n",
    "\t\t'area': area,\n",
    "\t\t'scans': {},\n",
    "\t\t'header': {}\n",
    "\t}\n",
    "\n",
    "\tkey = None\n",
    "\tpreviouskey = None\n",
    "\twith open(fpath, 'r', errors = 'ignore', encoding = 'utf-8') as f:\n",
    "\t\theaderlines = 54 #initial guess, will get picked up in code at \n",
    "\t\tline = f.readline()#.decode('utf-8')\n",
    "\t\twhile not line.startswith(DATA_START):\n",
    "\t\t\tif line.startswith('Acquisition started on'):\n",
    "\t\t\t\tdata['date'], data['time'] = line.split(' : ')[1].split(' ')\n",
    "\t\t\telse:\n",
    "\t\t\t\tif ' : ' in line:\n",
    "\t\t\t\t\tkey, value = line.split(' : ')\n",
    "\t\t\t\t\tdata['header'][key.strip()] = value.strip()\n",
    "\t\t\t\telif '  ' in line:\n",
    "\t\t\t\t\tparts = line.strip().split('  ')\n",
    "\t\t\t\t\tkey = parts[0]\n",
    "\t\t\t\t\tvalue = parts[-1]\n",
    "\t\t\t\t\tif key == 'vs.':\n",
    "\t\t\t\t\t\tdata['header'][previouskey] += ' vs. {}'.format(value.strip())\n",
    "\t\t\t\t\telse:\n",
    "\t\t\t\t\t\tdata['header'][key.strip()] = value.strip()\n",
    "\t\t\t\tpreviouskey = key\n",
    "\t\t\tline = f.readline()#.decode('utf-8')\n",
    "\t\t\n",
    "\t\tcolnames = []\n",
    "\t\tfor c in line.strip().split('\\t'):\n",
    "\t\t\tif c == 'ox/red':\n",
    "\t\t\t\tcolnames.append(c)\n",
    "\t\t\telif c.startswith('<I>'):\n",
    "\t\t\t\tcolnames.append('i')\n",
    "\t\t\telif c.startswith('Ewe'):\n",
    "\t\t\t\tcolnames.append('v')\n",
    "\t\t\telif c.startswith('cycle'):\n",
    "\t\t\t\tcolnames.append('cycle')\n",
    "\t\t\telse:\n",
    "\t\t\t\tcolnames.append(c.split('/')[0])\n",
    "\t\tf_reader = csv.DictReader(f, fieldnames = colnames, delimiter = '\\t')  \n",
    "\t\tdata['scans'] = {k:[[]] for k in colnames}\n",
    "\t\tcurrentcycle = 1\n",
    "\t\tfor row in f_reader:\n",
    "\t\t\tif int(row['cycle']) > currentcycle:\n",
    "\t\t\t\tcurrentcycle = int(row['cycle'])\n",
    "\t\t\t\tfor k in data['scans'].keys():\n",
    "\t\t\t\t\tdata['scans'][k].append([])\n",
    "\t\t\tfor k, val in row.items():\n",
    "\t\t\t\tdata['scans'][k][currentcycle-1].append(float(val))\n",
    "\n",
    "\t\tdata['scans'] = {k:[np.array(cycledata) for cycledata in v] for k,v in data['scans'].items()}\n",
    "\t\tdata['scans']['j'] = [i/area for i in data['scans']['i']]\n",
    "\t\tdata['numscans'] = currentcycle\n",
    "\t\tdata['v'] = data['scans']['v'][-1]\n",
    "\t\tdata['j'] = data['scans']['j'][-1]\n",
    "\n",
    "\t\treturn data\n",
    "\n",
    "def getOnsetPotentials(cvdata,fitwidth = 40):\n",
    "    # Finding cathodic peak voltage\n",
    "    X = cvdata['v']\n",
    "    Y = cvdata['j']\n",
    "    idx0 = np.argmin(Y)\n",
    "    cvdata['cathodic_peak'] = X[idx0] \n",
    "    \n",
    "    # Finding anodic peak current at the end of the voltammogram\n",
    "    idx1 = np.argmax(X)\n",
    "    cvdata['anodic_peak'] = Y[idx1] \n",
    "\n",
    "    # Inflection point onset\n",
    "    idx2 = np.argmin(X)\n",
    "    XX = X[idx1+500 : idx2 - 20]\n",
    "    YY = Y[idx1+500 : idx2 - 20]\n",
    "    \n",
    "    dydx = np.gradient(YY)/np.gradient(XX) # Finds first derivative, delta y/ delta x\n",
    "    dydx = smooth(dydx)\n",
    "    \n",
    "    idx3 = np.argmax(dydx) # Inflection point on the cathodic curve\n",
    "    idx4 = np.argmin(abs(YY)) # Getting closest to the baseline center as possible\n",
    "    cvdata['inflection_onset'] = XX[idx3]\n",
    "    \n",
    "    X_ = XX[idx3 - fitwidth//2: idx3 + fitwidth//2]\n",
    "    Y_ = YY[idx3 - fitwidth//2: idx3 + fitwidth//2]\n",
    "    linfit_3 = np.polyfit(X_,Y_,1)\n",
    "    \n",
    "    X_ = XX[idx4 - fitwidth//2: idx4 + fitwidth//2]\n",
    "    Y_ = YY[idx4 - fitwidth//2: idx4 + fitwidth//2]\n",
    "    linfit_4 = np.polyfit(X_,Y_,1)\n",
    "    \n",
    "    intersect_x = (linfit_4[1] - linfit_3[1]) / (linfit_3[0] - linfit_4[1])\n",
    "    intersect_y = linfit_3[0] * intersect_x + linfit_3[1]\n",
    "    cvdata['intersect_onset'] = [intersect_x, intersect_y]\n",
    "    return cvdata\n",
    "\n",
    "def smooth(a,WSZ=5):\n",
    "    # a: NumPy 1-D array containing the data to be smoothed\n",
    "    # WSZ: smoothing window size needs, which must be odd number,\n",
    "    # as in the original MATLAB implementation\n",
    "    out0 = np.convolve(a,np.ones(WSZ,dtype=int),'valid')/WSZ    \n",
    "    r = np.arange(1,WSZ-1,2)\n",
    "    start = np.cumsum(a[:WSZ-1])[::2]/r\n",
    "    stop = (np.cumsum(a[:-WSZ:-1])[::2]/r)[::-1]\n",
    "    return np.concatenate((  start , out0, stop  ))"
   ]
  },
  {
   "cell_type": "code",
   "execution_count": null,
   "metadata": {},
   "outputs": [],
   "source": [
    "# older codes below...\n",
    "\n",
    "\n",
    "\n",
    "#============================"
   ]
  },
  {
   "cell_type": "code",
   "execution_count": 108,
   "metadata": {},
   "outputs": [],
   "source": [
    "# getCV\n",
    "\"\"\"\n",
    "Loads CV data from a text file. Pulls the last curve out of the\n",
    "repeats (red/ox cycle).\n",
    "Returns structure. \n",
    "\n",
    "Example: mydata = getCV     (use UI to select file)\n",
    "\n",
    "         mydata = getCV ('C:\\Myname\\CV\\File.ras')   (directly offer filepath)\n",
    "\n",
    "Onset potential methods: \n",
    "    1: Direct voltage at minimum cathodic peak\n",
    "    2: Inflection point\n",
    "    3: Intersection at baseline\n",
    "    4: Fixed\n",
    "\"\"\"\n",
    "\n",
    "# def getFileList(directory = os.path.dirname(file_name)):#os.path.realpath(__file__)))\n",
    "#     return os.listdir(directory)\n",
    "# getFileList(filepath)\n",
    "\n",
    "def getCV(fpath, area =1):\n",
    "    cvdata = getcvdata(fpath)\n",
    "    cvdata = getOnsetPotentials(cvdata)\n",
    "    return cvdata\n",
    "\n",
    "def getcvdata(filepath, area = 1, nheaderlines = 53):\n",
    "    rawCV = {'voltage' : [],\n",
    "             'current' : [],\n",
    "             'cycle' : [] }\n",
    "\n",
    "    with open(filepath,'r') as f:\n",
    "        [next(f) for item in range(nheaderlines)] # Skips until the 54th line, where header line is. \n",
    "        f_reader = csv.DictReader(f, delimiter = '\\t')    \n",
    "        for row in f_reader:\n",
    "            rawCV['voltage'].append(row['Ewe/V'])\n",
    "            rawCV['current'].append(row['<I>/mA'])\n",
    "            rawCV['cycle'].append(row['cycle number'])\n",
    "\n",
    "    num_of_scans = np.unique(rawCV['cycle'])\n",
    "    fs = num_of_scans[-1]\n",
    "    final_scan = {'voltage' : [],\n",
    "                 'current' : [],\n",
    "                 'currentdensity' : np.array([])}\n",
    "\n",
    "    j = 0  # This can probably be optimized. Final scan is the only important one.\n",
    "    for n in rawCV['cycle']:\n",
    "        if n == fs:\n",
    "            final_scan['voltage'].append(rawCV['voltage'][j])\n",
    "            final_scan['current'].append(rawCV['current'][j])\n",
    "        j += 1\n",
    "    \n",
    "    final_scan['voltage'] = np.array(final_scan['voltage'], dtype = float)\n",
    "    final_scan['current'] = np.array(final_scan['current'], dtype = float)\n",
    "    final_scan['currentdensity'] = np.divide(final_scan['current'], area) # Gets current density\n",
    "    return final_scan\n",
    "\n",
    "def smooth(a,WSZ=5):\n",
    "    # a: NumPy 1-D array containing the data to be smoothed\n",
    "    # WSZ: smoothing window size needs, which must be odd number,\n",
    "    # as in the original MATLAB implementation\n",
    "    out0 = np.convolve(a,np.ones(WSZ,dtype=int),'valid')/WSZ    \n",
    "    r = np.arange(1,WSZ-1,2)\n",
    "    start = np.cumsum(a[:WSZ-1])[::2]/r\n",
    "    stop = (np.cumsum(a[:-WSZ:-1])[::2]/r)[::-1]\n",
    "    return np.concatenate((  start , out0, stop  ))\n",
    "\n",
    "def getOnsetPotentials(cvdata,fitwidth = 40):\n",
    "    #cvdata should be dict, output from getCV\n",
    "    \n",
    "    # Finding cathodic peak voltage\n",
    "    X = cvdata['voltage']\n",
    "    Y = cvdata['currentdensity']\n",
    "    idx0 = np.argmin(Y)\n",
    "    cvdata['cathodic_peak'] = X[idx0] \n",
    "    \n",
    "    # Finding anodic peak current at the end of the voltammogram\n",
    "    idx1 = np.argmax(X)\n",
    "    cvdata['anodic_peak'] = Y[idx1] \n",
    "\n",
    "    # Inflection point onset\n",
    "    idx2 = np.argmin(X)\n",
    "    XX = X[idx1+500 : idx2 - 20]\n",
    "    YY = Y[idx1+500 : idx2 - 20]\n",
    "    \n",
    "    dydx = np.gradient(YY)/np.gradient(XX) # Finds first derivative, delta y/ delta x\n",
    "    dydx = smooth(dydx)\n",
    "    \n",
    "    idx3 = np.argmax(dydx) # Inflection point on the cathodic curve\n",
    "    idx4 = np.argmin(abs(YY)) # Getting closest to the baseline center as possible\n",
    "    cvdata['inflection_onset'] = XX[idx3]\n",
    "    \n",
    "    X_ = XX[idx3 - fitwidth//2: idx3 + fitwidth//2]\n",
    "    Y_ = YY[idx3 - fitwidth//2: idx3 + fitwidth//2]\n",
    "    linfit_3 = np.polyfit(X_,Y_,1)\n",
    "    \n",
    "    X_ = XX[idx4 - fitwidth//2: idx4 + fitwidth//2]\n",
    "    Y_ = YY[idx4 - fitwidth//2: idx4 + fitwidth//2]\n",
    "    linfit_4 = np.polyfit(X_,Y_,1)\n",
    "    \n",
    "    intersect_x = (linfit_4[1] - linfit_3[1]) / (linfit_3[0] - linfit_4[1])\n",
    "    intersect_y = linfit_3[0] * intersect_x + linfit_3[1]\n",
    "    cvdata['intersect_onset'] = [intersect_x, intersect_y]\n",
    "    return cvdata\n"
   ]
  },
  {
   "cell_type": "code",
   "execution_count": 99,
   "metadata": {},
   "outputs": [
    {
     "name": "stdout",
     "output_type": "stream",
     "text": [
      "{'voltage': array([0.19229576, 0.19345422, 0.19439143, ..., 0.19039437, 0.19128586,\n",
      "       0.19239724]), 'current': array([0.00034713, 0.00034614, 0.00034744, ..., 0.00037424, 0.00037562,\n",
      "       0.00040446]), 'currentdensity': array([0.00069426, 0.00069228, 0.00069488, ..., 0.00074847, 0.00075123,\n",
      "       0.00080892])}\n"
     ]
    }
   ],
   "source": [
    "cvdata = getcvdata(filepath, area = .5)\n",
    "print(cvdata)"
   ]
  },
  {
   "cell_type": "code",
   "execution_count": 111,
   "metadata": {},
   "outputs": [
    {
     "data": {
      "text/plain": [
       "{'voltage': array([0.19229576, 0.19345422, 0.19439143, ..., 0.19039437, 0.19128586,\n",
       "        0.19239724]),\n",
       " 'current': array([0.00034713, 0.00034614, 0.00034744, ..., 0.00037424, 0.00037562,\n",
       "        0.00040446]),\n",
       " 'currentdensity': array([0.00034713, 0.00034614, 0.00034744, ..., 0.00037424, 0.00037562,\n",
       "        0.00040446]),\n",
       " 'cathodic_peak': -0.444778711,\n",
       " 'anodic_peak': 0.010884792647427984,\n",
       " 'inflection_onset': -0.309950382,\n",
       " 'intersect_onset': [-0.18963104576730827, -0.00028764459757954497]}"
      ]
     },
     "execution_count": 111,
     "metadata": {},
     "output_type": "execute_result"
    }
   ],
   "source": [
    "filepath = r\"C:\\Users\\Skaggs\\Desktop\\Perovskites\\2019_08_09 CV SnOx\\10nm\\180_11.4_FTO_02_CV_C02.txt\"\n",
    "getCV(filepath)"
   ]
  },
  {
   "cell_type": "code",
   "execution_count": 112,
   "metadata": {},
   "outputs": [
    {
     "data": {
      "text/plain": [
       "4199"
      ]
     },
     "execution_count": 112,
     "metadata": {},
     "output_type": "execute_result"
    }
   ],
   "source": [
    "len(_['voltage'])"
   ]
  },
  {
   "cell_type": "code",
   "execution_count": 49,
   "metadata": {},
   "outputs": [],
   "source": [
    "headerkey = {\n",
    "    'Run on channel': 'channel',\n",
    "    'Electrode connection': 'electrode_connection',\n",
    "    'Ewe,I filtering': 'ewe_ifilter',\n",
    "    'Channel': 'channel',\n",
    "    'Acquisition started on': 'datetime',\n",
    "    'Reference electrode': 'ref_electrode',\n",
    "}\n",
    "\n",
    "DATA_START = 'mode\\tox/red\\terror'\n",
    "NUM_HEADERLINES = 'Nb header lines':"
   ]
  },
  {
   "cell_type": "code",
   "execution_count": 99,
   "metadata": {},
   "outputs": [],
   "source": [
    "area = 1\n",
    "\n",
    "data = {\n",
    "    'cv_raw': {}\n",
    "}\n",
    "with open(fids[0], 'r', errors = 'ignore', encoding = 'utf-8') as f:\n",
    "    headerlines = 54 #initial guess, will get picked up in code at \n",
    "    line = f.readline()#.decode('utf-8')\n",
    "    while not line.startswith(DATA_START):\n",
    "        for k, v in headerkey.items():\n",
    "            if line.startswith(k):\n",
    "                decodedline = line\n",
    "                data[v] = decodedline.split(' : ')[-1].replace('\\n', '')\n",
    "        line = f.readline()#.decode('utf-8')\n",
    "    \n",
    "    colnames = []\n",
    "    for c in line.strip().split('\\t'):\n",
    "        if c == 'ox/red':\n",
    "            colnames.append(c)\n",
    "        elif c.startswith('<I>'):\n",
    "            colnames.append('i')\n",
    "        elif c.startswith('control'):\n",
    "            colnames.append('v')\n",
    "        elif c.startswith('cycle'):\n",
    "            colnames.append('cycle')\n",
    "        else:\n",
    "            colnames.append(c.split('/')[0])\n",
    "    f_reader = csv.DictReader(f, fieldnames = colnames, delimiter = '\\t')    \n",
    "    for row in f_reader:\n",
    "        if len(data['cv_raw']) == 0:\n",
    "            data['cv_raw'] = {k:[] for k in row.keys()}\n",
    "        for k, v in row.items():\n",
    "            data['cv_raw'][k].append(float(v))\n",
    "    \n",
    "    data['cv_raw'] = {k:np.array(v) for k,v in data['cv_raw'].items()}\n",
    "    \n",
    "    \n",
    "    mask = data['cv_raw']['cycle'] == data['cv_raw']['cycle'].max()\n",
    "    \n",
    "    data['v'] = data['cv_raw']['v'][mask]\n",
    "    data['j'] = data['cv_raw']['i'][mask]/area\n",
    "    "
   ]
  },
  {
   "cell_type": "code",
   "execution_count": 105,
   "metadata": {},
   "outputs": [
    {
     "data": {
      "text/plain": [
       "['09/05/2019', '17:27:53']"
      ]
     },
     "execution_count": 105,
     "metadata": {},
     "output_type": "execute_result"
    }
   ],
   "source": [
    "data['datetime'].split(' ')"
   ]
  },
  {
   "cell_type": "code",
   "execution_count": 103,
   "metadata": {
    "scrolled": true
   },
   "outputs": [
    {
     "data": {
      "text/plain": [
       "[<matplotlib.lines.Line2D at 0x120426908>]"
      ]
     },
     "execution_count": 103,
     "metadata": {},
     "output_type": "execute_result"
    },
    {
     "data": {
      "image/png": "[encoded data removed]",
      "text/plain": [
       "<Figure size 432x288 with 1 Axes>"
      ]
     },
     "metadata": {
      "needs_background": "light"
     },
     "output_type": "display_data"
    }
   ],
   "source": [
    "plt.plot(data['v'], data['j'])"
   ]
  },
  {
   "cell_type": "code",
   "execution_count": 262,
   "metadata": {},
   "outputs": [
    {
     "data": {
      "text/plain": [
       "<module 'frgtools.cyclicvolt' from '/Users/rishi/Documents/GitHub/Python-Utilities/FrgTools/frgtools/cyclicvolt.py'>"
      ]
     },
     "execution_count": 262,
     "metadata": {},
     "output_type": "execute_result"
    }
   ],
   "source": [
    "import frgtools.cyclicvolt as cv\n",
    "from importlib import reload\n",
    "reload(cv)"
   ]
  },
  {
   "cell_type": "code",
   "execution_count": 263,
   "metadata": {},
   "outputs": [],
   "source": [
    "data = cv.LoadCV(fids[0], area = 1)"
   ]
  },
  {
   "cell_type": "code",
   "execution_count": 257,
   "metadata": {},
   "outputs": [
    {
     "ename": "KeyError",
     "evalue": "'allscans'",
     "output_type": "error",
     "traceback": [
      "\u001b[0;31m---------------------------------------------------------------------------\u001b[0m",
      "\u001b[0;31mKeyError\u001b[0m                                  Traceback (most recent call last)",
      "\u001b[0;32m<ipython-input-257-9c2b3551ec31>\u001b[0m in \u001b[0;36m<module>\u001b[0;34m\u001b[0m\n\u001b[1;32m      4\u001b[0m }\n\u001b[1;32m      5\u001b[0m \u001b[0;34m\u001b[0m\u001b[0m\n\u001b[0;32m----> 6\u001b[0;31m \u001b[0;32mfor\u001b[0m \u001b[0mc\u001b[0m \u001b[0;32min\u001b[0m \u001b[0mrange\u001b[0m\u001b[0;34m(\u001b[0m\u001b[0mmax\u001b[0m\u001b[0;34m(\u001b[0m\u001b[0mnp\u001b[0m\u001b[0;34m.\u001b[0m\u001b[0munique\u001b[0m\u001b[0;34m(\u001b[0m\u001b[0mdata\u001b[0m\u001b[0;34m[\u001b[0m\u001b[0;34m'allscans'\u001b[0m\u001b[0;34m]\u001b[0m\u001b[0;34m[\u001b[0m\u001b[0;34m'cycle'\u001b[0m\u001b[0;34m]\u001b[0m\u001b[0;34m)\u001b[0m\u001b[0;34m.\u001b[0m\u001b[0mastype\u001b[0m\u001b[0;34m(\u001b[0m\u001b[0mnp\u001b[0m\u001b[0;34m.\u001b[0m\u001b[0muint8\u001b[0m\u001b[0;34m)\u001b[0m\u001b[0;34m)\u001b[0m\u001b[0;34m)\u001b[0m\u001b[0;34m:\u001b[0m\u001b[0;34m\u001b[0m\u001b[0;34m\u001b[0m\u001b[0m\n\u001b[0m\u001b[1;32m      7\u001b[0m     \u001b[0mmask\u001b[0m \u001b[0;34m=\u001b[0m \u001b[0mdata\u001b[0m\u001b[0;34m[\u001b[0m\u001b[0;34m'allscans'\u001b[0m\u001b[0;34m]\u001b[0m\u001b[0;34m[\u001b[0m\u001b[0;34m'cycle'\u001b[0m\u001b[0;34m]\u001b[0m \u001b[0;34m==\u001b[0m \u001b[0mc\u001b[0m\u001b[0;34m\u001b[0m\u001b[0;34m\u001b[0m\u001b[0m\n\u001b[1;32m      8\u001b[0m     \u001b[0mallscans\u001b[0m\u001b[0;34m[\u001b[0m\u001b[0;34m'v'\u001b[0m\u001b[0;34m]\u001b[0m\u001b[0;34m.\u001b[0m\u001b[0mappend\u001b[0m\u001b[0;34m(\u001b[0m\u001b[0mdata\u001b[0m\u001b[0;34m[\u001b[0m\u001b[0;34m'allscans'\u001b[0m\u001b[0;34m]\u001b[0m\u001b[0;34m[\u001b[0m\u001b[0;34m'v'\u001b[0m\u001b[0;34m]\u001b[0m\u001b[0;34m[\u001b[0m\u001b[0mmask\u001b[0m\u001b[0;34m]\u001b[0m\u001b[0;34m)\u001b[0m\u001b[0;34m\u001b[0m\u001b[0;34m\u001b[0m\u001b[0m\n",
      "\u001b[0;31mKeyError\u001b[0m: 'allscans'"
     ]
    }
   ],
   "source": [
    "allscans = {\n",
    "    'v':[],\n",
    "    'i':[]\n",
    "}\n",
    "\n",
    "for c in range(max(np.unique(data['allscans']['cycle']).astype(np.uint8))):\n",
    "    mask = data['allscans']['cycle'] == c\n",
    "    allscans['v'].append(data['allscans']['v'][mask])\n",
    "    allscans['i'].append(data['allscans']['i'][mask])"
   ]
  },
  {
   "cell_type": "code",
   "execution_count": 152,
   "metadata": {},
   "outputs": [
    {
     "data": {
      "text/plain": [
       "4"
      ]
     },
     "execution_count": 152,
     "metadata": {},
     "output_type": "execute_result"
    }
   ],
   "source": [
    "len(allscans['i'])"
   ]
  },
  {
   "cell_type": "code",
   "execution_count": 240,
   "metadata": {},
   "outputs": [],
   "source": [
    "def directionalplot(x,y, ax = None, arrowsize = 5, interval = None, color = None, line = True, **kwargs):\n",
    "    if interval is None:\n",
    "        interval = round(len(x)/15)\n",
    "        \n",
    "    if ax is None:\n",
    "        ax = plt.gca()\n",
    "    xs = savgol_filter(x, 5, 1)\n",
    "    ys = savgol_filter(y, 5, 1)\n",
    "    if line:\n",
    "        newline = ax.plot(x,y,color = color, **kwargs)\n",
    "        color = newline[0].get_color()\n",
    "    for idx in range(0, len(x), interval):\n",
    "        ax.annotate(\n",
    "            s = '',\n",
    "            xytext = (xs[idx], ys[idx]),\n",
    "            xy = (xs[idx+1], ys[idx+1]),\n",
    "            color = plt.cm.tab10(0),\n",
    "            arrowprops = {\n",
    "#                 'arrowstyle':'simple',\n",
    "                'color': color,\n",
    "                'headwidth': arrowsize,\n",
    "                'headlength': arrowsize,\n",
    "            }\n",
    "        )"
   ]
  },
  {
   "cell_type": "code",
   "execution_count": 241,
   "metadata": {},
   "outputs": [
    {
     "name": "stderr",
     "output_type": "stream",
     "text": [
      "No handles with labels found to put in legend.\n"
     ]
    },
    {
     "data": {
      "text/plain": [
       "<matplotlib.legend.Legend at 0x121c22fd0>"
      ]
     },
     "execution_count": 241,
     "metadata": {},
     "output_type": "execute_result"
    },
    {
     "data": {
      "image/png": "[encoded data removed]",
      "text/plain": [
       "<Figure size 864x864 with 1 Axes>"
      ]
     },
     "metadata": {
      "needs_background": "light"
     },
     "output_type": "display_data"
    }
   ],
   "source": [
    "plt.figure(figsize = (12,12))\n",
    "\n",
    "directionalplot(x,y)\n",
    "# plotVectors(x,y, line = True, label = 2)\n",
    "# plotVectors(x,y, line = True, label = 3)\n",
    "\n",
    "# plt.legend()"
   ]
  }
 ],
 "metadata": {
  "kernelspec": {
   "display_name": "Python 3",
   "language": "python",
   "name": "python3"
  },
  "language_info": {
   "codemirror_mode": {
    "name": "ipython",
    "version": 3
   },
   "file_extension": ".py",
   "mimetype": "text/x-python",
   "name": "python",
   "nbconvert_exporter": "python",
   "pygments_lexer": "ipython3",
   "version": "3.7.6"
  }
 },
 "nbformat": 4,
 "nbformat_minor": 4
}
