{
 "cells": [
  {
   "cell_type": "code",
   "execution_count": 166,
   "metadata": {},
   "outputs": [],
   "source": [
    "import frgtools.misc as frgm\n",
    "import frgtools.xrd as xrd\n",
    "import numpy as np\n",
    "import matplotlib.pyplot as plt\n",
    "from matplotlib import style\n",
    "style.use('ggplot') or plt.style.use('ggplot')\n",
    "import pandas as pd\n",
    "from scipy.signal import savgol_filter\n",
    "from scipy.signal import find_peaks_cwt\n",
    "from tqdm import tqdm\n",
    "import numpy.ma as ma"
   ]
  },
  {
   "cell_type": "code",
   "execution_count": 167,
   "metadata": {},
   "outputs": [],
   "source": [
    "# from importlib import reload\n",
    "# reload(xrd)"
   ]
  },
  {
   "cell_type": "markdown",
   "metadata": {},
   "source": [
    "# Loading Raw Data File"
   ]
  },
  {
   "cell_type": "code",
   "execution_count": 168,
   "metadata": {},
   "outputs": [
    {
     "name": "stdout",
     "output_type": "stream",
     "text": [
      "Files in 'Data':\n",
      "0:CsPbF3_AF_nK.ras\n",
      "1:CsPbF3_AF.ras\n",
      "2:CsPbF3_B_NK.ras\n",
      "3:CsPbF3.ras\n",
      "4:CsPbSnF3_25_5isl.ras\n",
      "5:CsPbSnF3_25.ras\n",
      "6:CsPbSnF3_50_5isl.ras\n",
      "7:CsPbSnF3_50.ras\n",
      "8:CsPbSnF3_75.ras\n",
      "9:KPbF3_fast.ras\n",
      "10:KPbF3.ras\n",
      "11:RbPbF3.ras\n"
     ]
    }
   ],
   "source": [
    "fids = frgm.listdir('Data')"
   ]
  },
  {
   "cell_type": "code",
   "execution_count": 169,
   "metadata": {},
   "outputs": [],
   "source": [
    "dfData = {}\n",
    "\n",
    "for idx, f in enumerate(fids):\n",
    "    tempdata = xrd.LoadSmartlab(f)\n",
    "    del(tempdata['header']) #assumes we dont need the header for following analyses\n",
    "                            # some tool parameters in here are important to keep track of ie step size, and res\n",
    "                            # will make repeating sucessful scans easy\n",
    "    \n",
    "    if idx == 0: #on first pass, initialize keys for each data entry in the dataframe dictionary\n",
    "        for k, v in tempdata.items():\n",
    "            dfData[k] = [v]\n",
    "    else:  #on subsequent passes, append new lines of data to dataframe dictionary\n",
    "        for k, v in tempdata.items():\n",
    "            dfData[k].append(v)      \n",
    "\n",
    "df = pd.DataFrame(dfData)"
   ]
  },
  {
   "cell_type": "code",
   "execution_count": 170,
   "metadata": {},
   "outputs": [
    {
     "data": {
      "text/html": [
       "<div>\n",
       "<style scoped>\n",
       "    .dataframe tbody tr th:only-of-type {\n",
       "        vertical-align: middle;\n",
       "    }\n",
       "\n",
       "    .dataframe tbody tr th {\n",
       "        vertical-align: top;\n",
       "    }\n",
       "\n",
       "    .dataframe thead th {\n",
       "        text-align: right;\n",
       "    }\n",
       "</style>\n",
       "<table border=\"1\" class=\"dataframe\">\n",
       "  <thead>\n",
       "    <tr style=\"text-align: right;\">\n",
       "      <th></th>\n",
       "      <th>name</th>\n",
       "      <th>counts</th>\n",
       "      <th>scanaxis</th>\n",
       "      <th>angles</th>\n",
       "      <th>numscans</th>\n",
       "      <th>scanmode</th>\n",
       "      <th>scanspeed</th>\n",
       "      <th>date</th>\n",
       "      <th>time</th>\n",
       "    </tr>\n",
       "  </thead>\n",
       "  <tbody>\n",
       "    <tr>\n",
       "      <th>0</th>\n",
       "      <td>CsPbF3_AF_nK</td>\n",
       "      <td>[3.0, 2.0, 3.0, 4.0, 4.0, 4.0, 1.0, 1.0, 4.0, ...</td>\n",
       "      <td>Theta/2-Theta</td>\n",
       "      <td>[15.0, 15.01, 15.02, 15.03, 15.04, 15.05, 15.0...</td>\n",
       "      <td>1</td>\n",
       "      <td>CONTINUOUS</td>\n",
       "      <td>1.20</td>\n",
       "      <td>07/16/19</td>\n",
       "      <td>18:40:43</td>\n",
       "    </tr>\n",
       "    <tr>\n",
       "      <th>1</th>\n",
       "      <td>CsPbF3_AF</td>\n",
       "      <td>[242.0, 244.0, 224.0, 266.0, 238.0, 242.0, 251...</td>\n",
       "      <td>Theta/2-Theta</td>\n",
       "      <td>[15.0, 15.01, 15.02, 15.03, 15.04, 15.05, 15.0...</td>\n",
       "      <td>1</td>\n",
       "      <td>CONTINUOUS</td>\n",
       "      <td>0.25</td>\n",
       "      <td>07/16/19</td>\n",
       "      <td>13:36:21</td>\n",
       "    </tr>\n",
       "    <tr>\n",
       "      <th>2</th>\n",
       "      <td>CsPbF3_B_NK</td>\n",
       "      <td>[4.0, 8.0, 4.0, 5.0, 6.0, 3.0, 6.0, 7.0, 5.0, ...</td>\n",
       "      <td>Theta/2-Theta</td>\n",
       "      <td>[10.0, 10.01, 10.02, 10.03, 10.04, 10.05, 10.0...</td>\n",
       "      <td>1</td>\n",
       "      <td>CONTINUOUS</td>\n",
       "      <td>1.35</td>\n",
       "      <td>05/02/19</td>\n",
       "      <td>12:27:26</td>\n",
       "    </tr>\n",
       "    <tr>\n",
       "      <th>3</th>\n",
       "      <td>CsPbF3</td>\n",
       "      <td>[1.0, 2.0, 3.0, 3.0, 0.0, 3.0, 0.0, 1.0, 3.0, ...</td>\n",
       "      <td>Theta/2-Theta</td>\n",
       "      <td>[10.0, 10.01, 10.02, 10.03, 10.04, 10.05, 10.0...</td>\n",
       "      <td>1</td>\n",
       "      <td>CONTINUOUS</td>\n",
       "      <td>3.00</td>\n",
       "      <td>04/04/19</td>\n",
       "      <td>12:32:03</td>\n",
       "    </tr>\n",
       "    <tr>\n",
       "      <th>4</th>\n",
       "      <td>CsPbSnF3_25_5isl</td>\n",
       "      <td>[7.0, 3.0, 4.0, 6.0, 6.0, 2.0, 9.0, 5.0, 6.0, ...</td>\n",
       "      <td>Theta/2-Theta</td>\n",
       "      <td>[10.0, 10.01, 10.02, 10.03, 10.04, 10.05, 10.0...</td>\n",
       "      <td>1</td>\n",
       "      <td>CONTINUOUS</td>\n",
       "      <td>3.00</td>\n",
       "      <td>06/05/19</td>\n",
       "      <td>14:15:35</td>\n",
       "    </tr>\n",
       "  </tbody>\n",
       "</table>\n",
       "</div>"
      ],
      "text/plain": [
       "               name                                             counts  \\\n",
       "0      CsPbF3_AF_nK  [3.0, 2.0, 3.0, 4.0, 4.0, 4.0, 1.0, 1.0, 4.0, ...   \n",
       "1         CsPbF3_AF  [242.0, 244.0, 224.0, 266.0, 238.0, 242.0, 251...   \n",
       "2       CsPbF3_B_NK  [4.0, 8.0, 4.0, 5.0, 6.0, 3.0, 6.0, 7.0, 5.0, ...   \n",
       "3            CsPbF3  [1.0, 2.0, 3.0, 3.0, 0.0, 3.0, 0.0, 1.0, 3.0, ...   \n",
       "4  CsPbSnF3_25_5isl  [7.0, 3.0, 4.0, 6.0, 6.0, 2.0, 9.0, 5.0, 6.0, ...   \n",
       "\n",
       "        scanaxis                                             angles  numscans  \\\n",
       "0  Theta/2-Theta  [15.0, 15.01, 15.02, 15.03, 15.04, 15.05, 15.0...         1   \n",
       "1  Theta/2-Theta  [15.0, 15.01, 15.02, 15.03, 15.04, 15.05, 15.0...         1   \n",
       "2  Theta/2-Theta  [10.0, 10.01, 10.02, 10.03, 10.04, 10.05, 10.0...         1   \n",
       "3  Theta/2-Theta  [10.0, 10.01, 10.02, 10.03, 10.04, 10.05, 10.0...         1   \n",
       "4  Theta/2-Theta  [10.0, 10.01, 10.02, 10.03, 10.04, 10.05, 10.0...         1   \n",
       "\n",
       "     scanmode  scanspeed      date      time  \n",
       "0  CONTINUOUS       1.20  07/16/19  18:40:43  \n",
       "1  CONTINUOUS       0.25  07/16/19  13:36:21  \n",
       "2  CONTINUOUS       1.35  05/02/19  12:27:26  \n",
       "3  CONTINUOUS       3.00  04/04/19  12:32:03  \n",
       "4  CONTINUOUS       3.00  06/05/19  14:15:35  "
      ]
     },
     "execution_count": 170,
     "metadata": {},
     "output_type": "execute_result"
    }
   ],
   "source": [
    "df.head() #.head() only displays the 5 first rows of your dataframe, its a safe way of peeking at the data without rendering a potentially massive table"
   ]
  },
  {
   "cell_type": "code",
   "execution_count": 171,
   "metadata": {},
   "outputs": [
    {
     "name": "stdout",
     "output_type": "stream",
     "text": [
      "CsPbF3_B_NK\n"
     ]
    }
   ],
   "source": [
    "# Filtering out bugged curves (manual entry)\n",
    "# df = df[df.Name != 'KPbF3_fast']\n",
    "\n",
    "# plotting a subset of experiment\n",
    "\n",
    "# filter condition 1:\n",
    "df_filter1 = df[df.name.str.contains(\"CsPb\")]\n",
    "# filter condition 2:\n",
    "df_filter2 = df_filter1[df_filter1.name.str.contains(\"B\")]\n",
    "\n",
    "# filter condition 3: \n",
    "df_filter3 = df_filter2[df_filter2.name.str.contains(\"\")]\n",
    "\n",
    "df_filter3.reset_index(drop=True, inplace=True)\n",
    "\n",
    "# list scans in your filtered dataset before plotting\n",
    "for n in df_filter3['name'].unique(): print(n)"
   ]
  },
  {
   "cell_type": "markdown",
   "metadata": {},
   "source": [
    "## Looking at selected plots preprocessed"
   ]
  },
  {
   "cell_type": "code",
   "execution_count": 172,
   "metadata": {},
   "outputs": [
    {
     "data": {
      "image/png": "[encoded data removed]",
      "text/plain": [
       "<Figure size 432x288 with 1 Axes>"
      ]
     },
     "metadata": {},
     "output_type": "display_data"
    }
   ],
   "source": [
    "# filtered DataFrame to Plot\n",
    "DF = df_filter3\n",
    "\n",
    "# single\n",
    "# q = 3\n",
    "# plt.plot(DF.loc[q]['angles'],DF.loc[q]['counts'], label=DF['name'][q])\n",
    "\n",
    "# multiple:\n",
    "for q in range (0, len(DF), 1):\n",
    "    plt.plot(DF.loc[q]['angles'],DF.loc[q]['counts'], label=DF['name'][q])\n",
    "\n",
    "plt.legend()\n",
    "plt.title('XRD')\n",
    "# plt.ylim(0,25)\n",
    "# plt.xlim(0,1.2)\n",
    "\n",
    "plt.ylabel('Intensity')\n",
    "plt.xlabel('2θ')\n",
    "plt.show()"
   ]
  },
  {
   "cell_type": "markdown",
   "metadata": {},
   "source": [
    "## Normalizng All XRD Data"
   ]
  },
  {
   "cell_type": "code",
   "execution_count": 173,
   "metadata": {},
   "outputs": [],
   "source": [
    "def normalizeCounts(x):\n",
    "    return (x-x.min()) / (x.max() - x.min())\n",
    "df['counts_norm'] = df['counts'].apply(normalizeCounts) #https://pandas.pydata.org/pandas-docs/stable/reference/api/pandas.DataFrame.apply.html"
   ]
  },
  {
   "cell_type": "markdown",
   "metadata": {},
   "source": [
    "## Noise Filtering"
   ]
  },
  {
   "cell_type": "markdown",
   "metadata": {},
   "source": [
    "REK Note: just need to be careful about smoothing with XRD data. Most (all?) smoothing filters will introduce some level of peak broadening depending on the window length chosen, and peak heights will likely be decreased as well. Potentially risky to include in default preprocessing for refinement, where peak width/heights are crucial. the refinement itself should essentially be peak fitting and compensate for some noise on its own."
   ]
  },
  {
   "cell_type": "code",
   "execution_count": 174,
   "metadata": {},
   "outputs": [],
   "source": [
    "from functools import partial #https://docs.python.org/2/library/functools.html\n",
    "\n",
    "#savgol_filter to smooth the data\n",
    "df['counts_f1'] = df['counts_norm'].apply(\n",
    "    partial(savgol_filter, window_length = 31, polyorder = 3)\n",
    ")"
   ]
  },
  {
   "cell_type": "markdown",
   "metadata": {},
   "source": [
    "## Peak Indexing"
   ]
  },
  {
   "cell_type": "code",
   "execution_count": 178,
   "metadata": {},
   "outputs": [],
   "source": [
    "df['peak_index'] = df['counts_f1'].apply(\n",
    "    partial(find_peaks_cwt, widths = np.arange(10,15), noise_perc = 0.02)\n",
    ")"
   ]
  },
  {
   "cell_type": "code",
   "execution_count": 176,
   "metadata": {},
   "outputs": [],
   "source": [
    "# df[0]"
   ]
  },
  {
   "cell_type": "code",
   "execution_count": 179,
   "metadata": {},
   "outputs": [],
   "source": [
    "def peakAngles(row):\n",
    "    angles = [row['angles'][idx] for idx in row['peak_index']]\n",
    "    return np.asarray(angles)\n",
    "\n",
    "df['peak_angle'] = df.apply(peakAngles, axis = 1)"
   ]
  },
  {
   "cell_type": "markdown",
   "metadata": {},
   "source": [
    "## Background Subtraction, Re-Normalization, and adding peak Values"
   ]
  },
  {
   "cell_type": "markdown",
   "metadata": {},
   "source": [
    "Interesting idea, would probably kinda work. A 'more robust' method might be to \n",
    "\n",
    "- identify peaks, set all their heights to the average of their neighboring areas (as you've done)\n",
    "- smooth this new background-only data with savgol\n",
    "- subtract the smoothed background from the data"
   ]
  },
  {
   "cell_type": "code",
   "execution_count": 139,
   "metadata": {
    "jupyter": {
     "source_hidden": true
    }
   },
   "outputs": [],
   "source": [
    "# window = 12//2 #arbitary guess at width of peaks errors out of window spills over index\n",
    "#                 #this can happen if peak is located near end of index\n",
    "# background=[]\n",
    "# for j in range(0, row, 1): #peak angles\n",
    "#     leftofpeak = []\n",
    "#     rightofpeak = []\n",
    "#     for n in range(0, len(df['Peak_Index'][j])):\n",
    "# #         try:\n",
    "#             leftofpeak.append(df['Counts_F1'][j][df['Peak_Index'][j][n]-window])\n",
    "#             rightofpeak.append(df['Counts_F1'][j][df['Peak_Index'][j][n]+window])\n",
    "        \n",
    "        \n",
    "# background=['']*len(leftofpeak)\n",
    "\n",
    "# for n in range(0, len(leftofpeak)): # a more robust math function can be used here i guess\n",
    "#     background[n] = np.round((leftofpeak[n] + rightofpeak[n]) / 2,4)\n",
    "\n",
    "    \n",
    "# for n in tqdm(range(0, row, 1)): #peak index in angle array\n",
    "#     df['Counts_F4'][n] = df['Counts_F1'][n]-background[n]\n",
    "#     df['Counts_F4'][n][df['Counts_F4'][n]< 0] = 0\n",
    "#     df['Counts_F4'][n] = (df['Counts_F4'][n]/ max(df['Counts_F4'][n])).round(3)\n",
    "\n",
    "# for j in range(0, row, 1): #peak angles\n",
    "#     somelist = []\n",
    "#     for n in range(0, len(df['Peak_Index'][j])):\n",
    "#         somelist.append(df['Counts_F4'][j][df['Peak_Index'][j][n]])\n",
    "# #         df['Peak_Intensity'][j] = somelist[n]\n",
    "\n",
    "#         [float(i) for i in somelist]\n",
    "# #         somelist=np.asarray(somelist)\n",
    "#         df.at[j, 'Peak_Intensity'] = somelist\n",
    "    \n",
    "# for n in range(0, row, 1): \n",
    "#     df['Peak_Intensity'][n] = np.asarray(df['Peak_Intensity'][n])"
   ]
  },
  {
   "cell_type": "markdown",
   "metadata": {},
   "source": [
    "### Checking background sum value: need to write a fx to minimize on this value"
   ]
  },
  {
   "cell_type": "code",
   "execution_count": 140,
   "metadata": {},
   "outputs": [
    {
     "data": {
      "text/plain": [
       "0"
      ]
     },
     "execution_count": 140,
     "metadata": {},
     "output_type": "execute_result"
    }
   ],
   "source": [
    "background\n",
    "total=0\n",
    "for n in range(0, len(background)): \n",
    "    total = total + background[n]\n",
    "total"
   ]
  },
  {
   "cell_type": "code",
   "execution_count": 181,
   "metadata": {},
   "outputs": [],
   "source": [
    "df['counts_f2'] = df['counts_f1'].apply(normalizeCounts)"
   ]
  },
  {
   "cell_type": "code",
   "execution_count": 183,
   "metadata": {},
   "outputs": [],
   "source": [
    "def peakIntensity(row):\n",
    "    peakI = [row['counts_f2'][idx] for idx in row['peak_index']]\n",
    "    return np.asarray(peakI)\n",
    "\n",
    "df['peak_intensity'] = df.apply(peakIntensity, axis = 1)"
   ]
  },
  {
   "cell_type": "markdown",
   "metadata": {},
   "source": [
    "### Now Refiltering to Interested Samples"
   ]
  },
  {
   "cell_type": "code",
   "execution_count": 184,
   "metadata": {},
   "outputs": [
    {
     "name": "stdout",
     "output_type": "stream",
     "text": [
      "CsPbF3_B_NK\n"
     ]
    }
   ],
   "source": [
    "# Filtering out bugged curves (manual entry)\n",
    "# df = df[df.Name != 'KPbF3_fast']\n",
    "\n",
    "# plotting a subset of experiment\n",
    "\n",
    "# filter condition 1:\n",
    "df_filter1 = df[df.name.str.contains(\"CsPb\")]\n",
    "# filter condition 2:\n",
    "df_filter2 = df_filter1[df_filter1.name.str.contains(\"B\")]\n",
    "\n",
    "# filter condition 3: \n",
    "df_filter3 = df_filter2[df_filter2.name.str.contains(\"\")]\n",
    "\n",
    "df_filter3.reset_index(drop=True, inplace=True)\n",
    "\n",
    "# list scans in your filtered dataset before plotting\n",
    "for n in df_filter3['name'].unique(): print(n)"
   ]
  },
  {
   "cell_type": "markdown",
   "metadata": {},
   "source": [
    "### Now Plotting Processed Data"
   ]
  },
  {
   "cell_type": "code",
   "execution_count": 187,
   "metadata": {},
   "outputs": [
    {
     "data": {
      "text/html": [
       "<div>\n",
       "<style scoped>\n",
       "    .dataframe tbody tr th:only-of-type {\n",
       "        vertical-align: middle;\n",
       "    }\n",
       "\n",
       "    .dataframe tbody tr th {\n",
       "        vertical-align: top;\n",
       "    }\n",
       "\n",
       "    .dataframe thead th {\n",
       "        text-align: right;\n",
       "    }\n",
       "</style>\n",
       "<table border=\"1\" class=\"dataframe\">\n",
       "  <thead>\n",
       "    <tr style=\"text-align: right;\">\n",
       "      <th></th>\n",
       "      <th>name</th>\n",
       "      <th>counts</th>\n",
       "      <th>scanaxis</th>\n",
       "      <th>angles</th>\n",
       "      <th>numscans</th>\n",
       "      <th>scanmode</th>\n",
       "      <th>scanspeed</th>\n",
       "      <th>date</th>\n",
       "      <th>time</th>\n",
       "      <th>counts_norm</th>\n",
       "      <th>counts_f1</th>\n",
       "      <th>peak_index</th>\n",
       "      <th>peak_angle</th>\n",
       "      <th>counts_f2</th>\n",
       "      <th>peak_intensity</th>\n",
       "    </tr>\n",
       "  </thead>\n",
       "  <tbody>\n",
       "    <tr>\n",
       "      <th>0</th>\n",
       "      <td>CsPbF3_B_NK</td>\n",
       "      <td>[4.0, 8.0, 4.0, 5.0, 6.0, 3.0, 6.0, 7.0, 5.0, ...</td>\n",
       "      <td>Theta/2-Theta</td>\n",
       "      <td>[10.0, 10.01, 10.02, 10.03, 10.04, 10.05, 10.0...</td>\n",
       "      <td>1</td>\n",
       "      <td>CONTINUOUS</td>\n",
       "      <td>1.35</td>\n",
       "      <td>05/02/19</td>\n",
       "      <td>12:27:26</td>\n",
       "      <td>[0.02877697841726619, 0.05755395683453238, 0.0...</td>\n",
       "      <td>[0.03168455403005527, 0.034531629483372094, 0....</td>\n",
       "      <td>[11, 93, 236, 855, 1379, 1631, 2470, 2751, 321...</td>\n",
       "      <td>[10.11, 10.93, 12.36, 18.55, 23.79, 26.31, 34....</td>\n",
       "      <td>[0.03739558719665357, 0.04083672520804603, 0.0...</td>\n",
       "      <td>[0.056823133231105334, 0.05376928059825547, 0....</td>\n",
       "    </tr>\n",
       "  </tbody>\n",
       "</table>\n",
       "</div>"
      ],
      "text/plain": [
       "          name                                             counts  \\\n",
       "0  CsPbF3_B_NK  [4.0, 8.0, 4.0, 5.0, 6.0, 3.0, 6.0, 7.0, 5.0, ...   \n",
       "\n",
       "        scanaxis                                             angles  numscans  \\\n",
       "0  Theta/2-Theta  [10.0, 10.01, 10.02, 10.03, 10.04, 10.05, 10.0...         1   \n",
       "\n",
       "     scanmode  scanspeed      date      time  \\\n",
       "0  CONTINUOUS       1.35  05/02/19  12:27:26   \n",
       "\n",
       "                                         counts_norm  \\\n",
       "0  [0.02877697841726619, 0.05755395683453238, 0.0...   \n",
       "\n",
       "                                           counts_f1  \\\n",
       "0  [0.03168455403005527, 0.034531629483372094, 0....   \n",
       "\n",
       "                                          peak_index  \\\n",
       "0  [11, 93, 236, 855, 1379, 1631, 2470, 2751, 321...   \n",
       "\n",
       "                                          peak_angle  \\\n",
       "0  [10.11, 10.93, 12.36, 18.55, 23.79, 26.31, 34....   \n",
       "\n",
       "                                           counts_f2  \\\n",
       "0  [0.03739558719665357, 0.04083672520804603, 0.0...   \n",
       "\n",
       "                                      peak_intensity  \n",
       "0  [0.056823133231105334, 0.05376928059825547, 0....  "
      ]
     },
     "execution_count": 187,
     "metadata": {},
     "output_type": "execute_result"
    }
   ],
   "source": [
    "df_filter3.head()"
   ]
  },
  {
   "cell_type": "code",
   "execution_count": 193,
   "metadata": {},
   "outputs": [
    {
     "data": {
      "image/png": "[encoded data removed]",
      "text/plain": [
       "<Figure size 432x288 with 1 Axes>"
      ]
     },
     "metadata": {},
     "output_type": "display_data"
    }
   ],
   "source": [
    "# filtered DataFrame to Plot\n",
    "DF = df_filter3\n",
    "\n",
    "# plotting single use:\n",
    "# q = 3\n",
    "# #masking out bad peaks\n",
    "# a = DF['Peak_Intensity'][q]\n",
    "# a = np.ma.masked_where(a <= 0.005 , a)\n",
    "\n",
    "#plotting\n",
    "# plt.plot(DF.loc[q]['angles'],DF.loc[q]['counts_f1'], label=DF['name'][q])\n",
    "# plt.plot(DF['Peak_Angle'][q],a+.05,'+')\n",
    "\n",
    "# plotting multiple use:\n",
    "for q in range (0, len(DF), 1):\n",
    "    #masking out bad peaks\n",
    "    a = DF['peak_intensity'][q]\n",
    "    a = np.ma.masked_where(a <= 0.06 , a)\n",
    "    \n",
    "    #plotting\n",
    "    plt.plot(DF.loc[q]['angles'],DF.loc[q]['counts_f2'], label=DF['name'][q])\n",
    "    plt.plot(DF['peak_angle'][q],a+.05,'+',label=DF['name'][q])\n",
    "\n",
    "\n",
    "plt.legend()\n",
    "plt.title('XRD')\n",
    "plt.ylim(0,1.1)\n",
    "plt.xlim(min(DF.loc[q]['angles']),max(DF.loc[q]['angles']))\n",
    "\n",
    "plt.ylabel('Intensity')\n",
    "plt.xlabel('2θ')\n",
    "plt.show()"
   ]
  },
  {
   "cell_type": "code",
   "execution_count": null,
   "metadata": {},
   "outputs": [],
   "source": []
  },
  {
   "cell_type": "code",
   "execution_count": null,
   "metadata": {},
   "outputs": [],
   "source": []
  },
  {
   "cell_type": "code",
   "execution_count": null,
   "metadata": {},
   "outputs": [],
   "source": []
  }
 ],
 "metadata": {
  "kernelspec": {
   "display_name": "Python 3",
   "language": "python",
   "name": "python3"
  },
  "language_info": {
   "codemirror_mode": {
    "name": "ipython",
    "version": 3
   },
   "file_extension": ".py",
   "mimetype": "text/x-python",
   "name": "python",
   "nbconvert_exporter": "python",
   "pygments_lexer": "ipython3",
   "version": "3.7.5"
  }
 },
 "nbformat": 4,
 "nbformat_minor": 4
}
