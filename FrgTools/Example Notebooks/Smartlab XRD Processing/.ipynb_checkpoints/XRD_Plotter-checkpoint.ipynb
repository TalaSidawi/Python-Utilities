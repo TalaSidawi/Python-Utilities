{
 "cells": [
  {
   "cell_type": "code",
   "execution_count": 144,
   "metadata": {},
   "outputs": [],
   "source": [
    "import frgtools.misc as frgm\n",
    "import frgtools.xrd as xrd\n",
    "import numpy as np\n",
    "import matplotlib.pyplot as plt\n",
    "from matplotlib import style\n",
    "# style.use('ggplot') or plt.style.use('ggplot')\n",
    "import pandas as pd\n",
    "from scipy.signal import savgol_filter\n",
    "from scipy.signal import find_peaks_cwt\n",
    "from tqdm import tqdm_notebook as tqdm"
   ]
  },
  {
   "cell_type": "code",
   "execution_count": 145,
   "metadata": {},
   "outputs": [
    {
     "data": {
      "text/plain": [
       "<module 'frgtools.xrd' from '/Users/rishi/Documents/GitHub/Python-Utilities/FrgTools/frgtools/xrd.py'>"
      ]
     },
     "execution_count": 145,
     "metadata": {},
     "output_type": "execute_result"
    }
   ],
   "source": [
    "# from importlib import reload\n",
    "# reload(xrd)"
   ]
  },
  {
   "cell_type": "markdown",
   "metadata": {},
   "source": [
    "# Loading Raw Data File"
   ]
  },
  {
   "cell_type": "code",
   "execution_count": 3,
   "metadata": {},
   "outputs": [
    {
     "name": "stdout",
     "output_type": "stream",
     "text": [
      "Files in 'Data':\n",
      "0:KPbF3.ras\n",
      "1:CsPbSnF3_50_5isl.ras\n",
      "2:CsPbSnF3_25.ras\n",
      "3:CsPbF3_AF.ras\n",
      "4:CsPbSnF3_50.ras\n",
      "5:KPbF3_fast.ras\n",
      "6:CsPbF3_B_NK.ras\n",
      "7:CsPbSnF3_75.ras\n",
      "8:CsPbSnF3_25_5isl.ras\n",
      "9:RbPbF3.ras\n",
      "10:CsPbF3_AF_nK.ras\n",
      "11:CsPbF3.ras\n"
     ]
    }
   ],
   "source": [
    "fids = frgm.listdir('Data')"
   ]
  },
  {
   "cell_type": "code",
   "execution_count": 4,
   "metadata": {},
   "outputs": [],
   "source": [
    "dfData = {}\n",
    "\n",
    "for idx, f in enumerate(fids):\n",
    "    tempdata = xrd.load_smartlab(f)\n",
    "    del(tempdata['header']) #assumes we dont need the header for following analyses\n",
    "                            # some tool parameters in here are important to keep track of ie step size, and res\n",
    "                            # will make repeating sucessful scans easy\n",
    "    \n",
    "    if idx == 0: #on first pass, initialize keys for each data entry in the dataframe dictionary\n",
    "        for k, v in tempdata.items():\n",
    "            dfData[k] = [v]\n",
    "    else:  #on subsequent passes, append new lines of data to dataframe dictionary\n",
    "        for k, v in tempdata.items():\n",
    "            dfData[k].append(v)      \n",
    "\n",
    "df = pd.DataFrame(dfData)"
   ]
  },
  {
   "cell_type": "code",
   "execution_count": 46,
   "metadata": {},
   "outputs": [],
   "source": [
    "# df.head() #.head() only displays the 5 first rows of your dataframe, its a safe way of peeking at the data without rendering a potentially massive table"
   ]
  },
  {
   "cell_type": "code",
   "execution_count": 148,
   "metadata": {},
   "outputs": [
    {
     "name": "stdout",
     "output_type": "stream",
     "text": [
      "CsPbSnF3_50_5isl\n",
      "CsPbSnF3_25\n",
      "CsPbF3_AF\n",
      "CsPbSnF3_50\n",
      "CsPbF3_B_NK\n",
      "CsPbSnF3_75\n",
      "CsPbSnF3_25_5isl\n",
      "CsPbF3_AF_nK\n",
      "CsPbF3\n"
     ]
    }
   ],
   "source": [
    "# Filtering out bugged curves (manual entry)\n",
    "# df = df[df.name != 'CsPbSnF3_25_5isl']\n",
    "\n",
    "# plotting a subset of experiment\n",
    "\n",
    "Filter_1 = 'Cs'\n",
    "Filter_2 = ''\n",
    "Filter_3 = ''\n",
    "\n",
    "df_filter1 = df[df.name.str.contains(Filter_1)]\n",
    "df_filter2 = df_filter1[df_filter1.name.str.contains(Filter_2)]\n",
    "df_filter3 = df_filter2[df_filter2.name.str.contains(Filter_3)]\n",
    "df_filter3.reset_index(drop=True, inplace=True)\n",
    "\n",
    "# list scans in your filtered dataset before plotting\n",
    "for n in df_filter3['name'].unique(): print(n)"
   ]
  },
  {
   "cell_type": "markdown",
   "metadata": {},
   "source": [
    "## Looking at selected plots preprocessed"
   ]
  },
  {
   "cell_type": "code",
   "execution_count": 151,
   "metadata": {},
   "outputs": [
    {
     "data": {
      "image/png": "[encoded data removed]",
      "text/plain": [
       "<Figure size 432x288 with 1 Axes>"
      ]
     },
     "metadata": {
      "needs_background": "light"
     },
     "output_type": "display_data"
    }
   ],
   "source": [
    "# filtered DataFrame to Plot\n",
    "DF = df_filter3\n",
    "\n",
    "# single\n",
    "# q = 3\n",
    "# plt.plot(DF.loc[q]['angles'],DF.loc[q]['counts'], label=DF['name'][q])\n",
    "\n",
    "# multiple:\n",
    "for q in range (len(DF)):\n",
    "    plt.plot(DF.loc[q]['angles'],DF.loc[q]['counts'], label=DF['name'][q])\n",
    "\n",
    "plt.legend()\n",
    "plt.title('XRD')\n",
    "# plt.ylim(0,25)\n",
    "# plt.xlim(0,1.2)\n",
    "\n",
    "plt.ylabel('Intensity')\n",
    "plt.xlabel('2θ')\n",
    "plt.show()"
   ]
  },
  {
   "cell_type": "markdown",
   "metadata": {},
   "source": [
    "## Remove Background"
   ]
  },
  {
   "cell_type": "code",
   "execution_count": 146,
   "metadata": {},
   "outputs": [],
   "source": [
    "df['counts_bgremoved'] = df.apply(lambda x: xrd.remove_background(x.angles,x.counts), axis=1)"
   ]
  },
  {
   "cell_type": "markdown",
   "metadata": {},
   "source": [
    "## Normalizng All XRD Data"
   ]
  },
  {
   "cell_type": "code",
   "execution_count": 154,
   "metadata": {},
   "outputs": [],
   "source": [
    "def normalizeCounts(x):\n",
    "    return (x-x.min()) / (x.max() - x.min())\n",
    "df['counts_norm'] = df['counts_bgremoved'].apply(normalizeCounts) #https://pandas.pydata.org/pandas-docs/stable/reference/api/pandas.DataFrame.apply.html"
   ]
  },
  {
   "cell_type": "markdown",
   "metadata": {},
   "source": [
    "## Noise Filtering"
   ]
  },
  {
   "cell_type": "markdown",
   "metadata": {},
   "source": [
    "REK Note: just need to be careful about smoothing with XRD data. Most (all?) smoothing filters will introduce some level of peak broadening depending on the window length chosen, and peak heights will likely be decreased as well. Potentially risky to include in default preprocessing for refinement, where peak width/heights are crucial. the refinement itself should essentially be peak fitting and compensate for some noise on its own."
   ]
  },
  {
   "cell_type": "code",
   "execution_count": 155,
   "metadata": {},
   "outputs": [],
   "source": [
    "from functools import partial #https://docs.python.org/2/library/functools.html\n",
    "\n",
    "#savgol_filter to smooth the data\n",
    "df['counts_f1'] = df['counts_norm'].apply(\n",
    "    partial(savgol_filter, window_length = 15, polyorder = 3)\n",
    ")"
   ]
  },
  {
   "cell_type": "markdown",
   "metadata": {},
   "source": [
    "## Peak Indexing, takes a few seconds"
   ]
  },
  {
   "cell_type": "code",
   "execution_count": 156,
   "metadata": {},
   "outputs": [
    {
     "data": {
      "application/vnd.jupyter.widget-view+json": {
       "model_id": "2c176173d2f441c89dd11043122188e4",
       "version_major": 2,
       "version_minor": 0
      },
      "text/plain": [
       "HBox(children=(IntProgress(value=0, max=12), HTML(value='')))"
      ]
     },
     "metadata": {},
     "output_type": "display_data"
    },
    {
     "name": "stdout",
     "output_type": "stream",
     "text": [
      "\n"
     ]
    }
   ],
   "source": [
    "df['peak_index'] = tqdm(df['counts_f1'].apply(\n",
    "    partial(find_peaks_cwt, widths = np.arange(10,15), noise_perc = 0.02)\n",
    "))"
   ]
  },
  {
   "cell_type": "code",
   "execution_count": 157,
   "metadata": {},
   "outputs": [],
   "source": [
    "def peakAngles(row):\n",
    "    angles = [row['angles'][idx] for idx in row['peak_index']]\n",
    "    return np.asarray(angles)\n",
    "\n",
    "df['peak_angle'] = df.apply(peakAngles, axis = 1)"
   ]
  },
  {
   "cell_type": "markdown",
   "metadata": {},
   "source": [
    "## Peak Intensity"
   ]
  },
  {
   "cell_type": "code",
   "execution_count": 158,
   "metadata": {},
   "outputs": [],
   "source": [
    "def peakIntensity(row):\n",
    "    peakI = [row['counts_f1'][idx] for idx in row['peak_index']]\n",
    "    return np.asarray(peakI)\n",
    "\n",
    "df['peak_intensity'] = df.apply(peakIntensity, axis = 1)"
   ]
  },
  {
   "cell_type": "markdown",
   "metadata": {},
   "source": [
    "### Now Refiltering to Interested Samples"
   ]
  },
  {
   "cell_type": "code",
   "execution_count": 159,
   "metadata": {},
   "outputs": [
    {
     "name": "stdout",
     "output_type": "stream",
     "text": [
      "CsPbF3_AF\n",
      "CsPbF3_AF_nK\n"
     ]
    }
   ],
   "source": [
    "Filter_1 = 'Cs'\n",
    "Filter_2 = 'AF'\n",
    "Filter_3 = ''\n",
    "\n",
    "df_filter1 = df[df.name.str.contains(Filter_1)]\n",
    "df_filter2 = df_filter1[df_filter1.name.str.contains(Filter_2)]\n",
    "df_filter3 = df_filter2[df_filter2.name.str.contains(Filter_3)]\n",
    "df_filter3.reset_index(drop=True, inplace=True)\n",
    "for n in df_filter3['name'].unique(): print(n)"
   ]
  },
  {
   "cell_type": "markdown",
   "metadata": {},
   "source": [
    "### Now Plotting Processed Data"
   ]
  },
  {
   "cell_type": "code",
   "execution_count": 175,
   "metadata": {},
   "outputs": [
    {
     "data": {
      "image/png": "[encoded data removed]",
      "text/plain": [
       "<Figure size 432x288 with 1 Axes>"
      ]
     },
     "metadata": {
      "needs_background": "light"
     },
     "output_type": "display_data"
    }
   ],
   "source": [
    "# filtered DataFrame to Plot\n",
    "DF = df_filter3\n",
    "\n",
    "# plotting single use:\n",
    "# q = 3\n",
    "# #masking out bad peaks\n",
    "# a = DF['Peak_Intensity'][q]\n",
    "# a = np.ma.masked_where(a <= 0.005 , a)\n",
    "\n",
    "#plotting\n",
    "# plt.plot(DF.loc[q]['angles'],DF.loc[q]['counts_f1'], label=DF['name'][q])\n",
    "# plt.plot(DF['Peak_Angle'][q],a+.05,'+')\n",
    "\n",
    "# plotting multiple use:\n",
    "\n",
    "min_intensity = 0.05\n",
    "\n",
    "# for q in range(len(DF)):\n",
    "#     #masking out bad peaks\n",
    "#     a = DF['peak_intensity'][q]\n",
    "#     a = np.ma.masked_where(a <= min_intensity , a)\n",
    "    \n",
    "#     #plotting\n",
    "#     plt.plot(DF.loc[q]['angles'],DF.loc[q]['counts_f1']+q*1.1, label=DF['name'][q])\n",
    "#     plt.plot(DF['peak_angle'][q],a+0.05+q*1.2,'+')\n",
    "\n",
    "\n",
    "for q, (_, r) in enumerate(DF.iterrows()):\n",
    "    #mask out low intensity peaks\n",
    "    a = r['peak_intensity']\n",
    "    a = np.ma.masked_where(a <= min_intensity, a)\n",
    "    \n",
    "    #plotting\n",
    "    plt.plot(r['angles'], r['counts_f1'] + q*1.1, label = r['name'])\n",
    "    plt.plot(r['peak_angle'], a + 0.07 + q*1.1, '+')\n",
    "\n",
    "plt.legend()\n",
    "plt.title('XRD')\n",
    "plt.ylim(0,max(DF.loc[q]['counts_f1']+1.5))\n",
    "plt.xlim(min(DF.loc[q]['angles']),max(DF.loc[q]['angles']))\n",
    "\n",
    "plt.ylabel('Intensity')\n",
    "plt.xlabel('2θ')\n",
    "plt.show()"
   ]
  },
  {
   "cell_type": "code",
   "execution_count": null,
   "metadata": {},
   "outputs": [],
   "source": []
  }
 ],
 "metadata": {
  "kernelspec": {
   "display_name": "Python 3",
   "language": "python",
   "name": "python3"
  },
  "language_info": {
   "codemirror_mode": {
    "name": "ipython",
    "version": 3
   },
   "file_extension": ".py",
   "mimetype": "text/x-python",
   "name": "python",
   "nbconvert_exporter": "python",
   "pygments_lexer": "ipython3",
   "version": "3.7.3"
  }
 },
 "nbformat": 4,
 "nbformat_minor": 4
}
